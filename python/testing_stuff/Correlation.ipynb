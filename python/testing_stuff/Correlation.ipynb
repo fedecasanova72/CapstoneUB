{
 "cells": [
  {
   "cell_type": "code",
   "execution_count": 1,
   "metadata": {
    "collapsed": true
   },
   "outputs": [],
   "source": [
    "# import required libs\n",
    "import pandas as pd\n",
    "import numpy as np\n",
    "import matplotlib.pyplot as plt\n",
    "import urllib.request\n",
    "from sklearn import preprocessing"
   ]
  },
  {
   "cell_type": "code",
   "execution_count": 2,
   "metadata": {},
   "outputs": [],
   "source": [
    "# read original dataset from file\n",
    "df = pd.read_csv('/home/fede/workspace/DataLab/python/data/payments_w_distance.txt', sep='|', header=0, decimal=\",\")"
   ]
  },
  {
   "cell_type": "code",
   "execution_count": 3,
   "metadata": {
    "collapsed": true
   },
   "outputs": [],
   "source": [
    "remap = {\n",
    "    'LUNES': 1,\n",
    "    'MARTES': 2,\n",
    "    'MIÉRCOLES': 3,\n",
    "    'JUEVES': 4, \n",
    "    'VIERNES': 5,\n",
    "    'SÁBADO': 6,\n",
    "    'DOMINGO': 7\n",
    "}\n",
    "df['NUM_DIA_SEMANA'] = df['DIA_SEMANA'].map(remap)\n",
    "df.FRANJA_HORARIA = pd.to_numeric(df.FRANJA_HORARIA.str.slice(0,2))\n",
    "del df['TIMESTAMP']"
   ]
  },
  {
   "cell_type": "code",
   "execution_count": 4,
   "metadata": {},
   "outputs": [
    {
     "name": "stdout",
     "output_type": "stream",
     "text": [
      "                CP_CLIENTE  CP_COMERCIO  FRANJA_HORARIA   IMPORTE    NUM_OP  \\\n",
      "CP_CLIENTE        1.000000    -0.049356        0.013989 -0.034153 -0.115045   \n",
      "CP_COMERCIO      -0.049356     1.000000        0.015796  0.008536  0.066379   \n",
      "FRANJA_HORARIA    0.013989     0.015796        1.000000 -0.004356  0.004126   \n",
      "IMPORTE          -0.034153     0.008536       -0.004356  1.000000  0.413370   \n",
      "NUM_OP           -0.115045     0.066379        0.004126  0.413370  1.000000   \n",
      "HUMEDAD          -0.006419     0.019546       -0.072556 -0.006878 -0.001290   \n",
      "SENSAC_TERMICA    0.004097     0.000491        0.110104  0.002904 -0.003571   \n",
      "TEMPERATURA       0.003972     0.000568        0.107509  0.002715 -0.003704   \n",
      "DISTANCE          0.420423    -0.049595        0.034147 -0.035822 -0.125854   \n",
      "NUM_DIA_SEMANA    0.024107     0.020123       -0.028066 -0.006857 -0.004399   \n",
      "\n",
      "                 HUMEDAD  SENSAC_TERMICA  TEMPERATURA  DISTANCE  \\\n",
      "CP_CLIENTE     -0.006419        0.004097     0.003972  0.420423   \n",
      "CP_COMERCIO     0.019546        0.000491     0.000568 -0.049595   \n",
      "FRANJA_HORARIA -0.072556        0.110104     0.107509  0.034147   \n",
      "IMPORTE        -0.006878        0.002904     0.002715 -0.035822   \n",
      "NUM_OP         -0.001290       -0.003571    -0.003704 -0.125854   \n",
      "HUMEDAD         1.000000       -0.386816    -0.416670 -0.014079   \n",
      "SENSAC_TERMICA -0.386816        1.000000     0.995277  0.002472   \n",
      "TEMPERATURA    -0.416670        0.995277     1.000000  0.002731   \n",
      "DISTANCE       -0.014079        0.002472     0.002731  1.000000   \n",
      "NUM_DIA_SEMANA -0.003168       -0.033410    -0.031578  0.006757   \n",
      "\n",
      "                NUM_DIA_SEMANA  \n",
      "CP_CLIENTE            0.024107  \n",
      "CP_COMERCIO           0.020123  \n",
      "FRANJA_HORARIA       -0.028066  \n",
      "IMPORTE              -0.006857  \n",
      "NUM_OP               -0.004399  \n",
      "HUMEDAD              -0.003168  \n",
      "SENSAC_TERMICA       -0.033410  \n",
      "TEMPERATURA          -0.031578  \n",
      "DISTANCE              0.006757  \n",
      "NUM_DIA_SEMANA        1.000000  \n"
     ]
    }
   ],
   "source": [
    "df.IMPORTE = preprocessing.scale(df.IMPORTE.astype('float64'))\n",
    "df.DISTANCE = preprocessing.scale(df.DISTANCE.astype('float64'))\n",
    "df.TEMPERATURA = preprocessing.scale(df.TEMPERATURA.astype('float64'))\n",
    "df.HUMEDAD = preprocessing.scale(df.HUMEDAD.astype('float64'))\n",
    "df.SENSAC_TERMICA = preprocessing.scale(df.SENSAC_TERMICA.astype('float64'))\n",
    "df.NUM_DIA_SEMANA = preprocessing.scale(df.NUM_DIA_SEMANA.astype('float64'))\n",
    "df.FRANJA_HORARIA = preprocessing.scale(df.FRANJA_HORARIA.astype('float64'))\n",
    "print(df.corr(method='pearson'))"
   ]
  },
  {
   "cell_type": "code",
   "execution_count": null,
   "metadata": {
    "collapsed": true
   },
   "outputs": [],
   "source": []
  },
  {
   "cell_type": "code",
   "execution_count": null,
   "metadata": {
    "collapsed": true
   },
   "outputs": [],
   "source": []
  },
  {
   "cell_type": "code",
   "execution_count": null,
   "metadata": {
    "collapsed": true
   },
   "outputs": [],
   "source": []
  },
  {
   "cell_type": "code",
   "execution_count": null,
   "metadata": {
    "collapsed": true
   },
   "outputs": [],
   "source": []
  }
 ],
 "metadata": {
  "kernelspec": {
   "display_name": "Python 3",
   "language": "python",
   "name": "python3"
  },
  "language_info": {
   "codemirror_mode": {
    "name": "ipython",
    "version": 3
   },
   "file_extension": ".py",
   "mimetype": "text/x-python",
   "name": "python",
   "nbconvert_exporter": "python",
   "pygments_lexer": "ipython3",
   "version": "3.5.2"
  }
 },
 "nbformat": 4,
 "nbformat_minor": 2
}
