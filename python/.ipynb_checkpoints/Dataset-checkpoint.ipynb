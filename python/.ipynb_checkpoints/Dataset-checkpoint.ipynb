{
 "cells": [
  {
   "cell_type": "markdown",
   "metadata": {},
   "source": [
    "# Data Enrichment"
   ]
  },
  {
   "cell_type": "markdown",
   "metadata": {},
   "source": [
    "In this notebook, data from other sources will be added to the dataset."
   ]
  },
  {
   "cell_type": "code",
   "execution_count": 26,
   "metadata": {
    "collapsed": true
   },
   "outputs": [],
   "source": [
    "# import required libs\n",
    "import pandas as pd\n",
    "import numpy as np\n",
    "import matplotlib.pyplot as plt\n",
    "from urllib import request\n",
    "import json"
   ]
  },
  {
   "cell_type": "code",
   "execution_count": 4,
   "metadata": {},
   "outputs": [],
   "source": [
    "# read original dataset from file\n",
    "df = pd.read_csv('/home/fede/workspace/DataLab/python/data/dataset_card_analytics.txt', sep='|', header=0, decimal=\",\")"
   ]
  },
  {
   "cell_type": "markdown",
   "metadata": {},
   "source": [
    "Now the dataset is loaded in memory as a pandas DataFrame.\n",
    "\n",
    "The first thing to do is, with the postal code, get the information about the cities: city name, province, autonomous community, country, latitude and longitude; for both the store and the client."
   ]
  },
  {
   "cell_type": "code",
   "execution_count": 27,
   "metadata": {
    "collapsed": true
   },
   "outputs": [],
   "source": [
    "# cache for cities already obtained from gmaps api\n",
    "cities = {}"
   ]
  },
  {
   "cell_type": "code",
   "execution_count": 28,
   "metadata": {
    "collapsed": true
   },
   "outputs": [],
   "source": [
    "# city object with info needed obtained from gmaps\n",
    "class City:\n",
    "    def __init__(self, name, province, aut_com, country, lat, lon):\n",
    "        self.name = name\n",
    "        self.province = province\n",
    "        self.aut_com = aut_com\n",
    "        self.country = country\n",
    "        self.lat = lat\n",
    "        self.lon = lon"
   ]
  },
  {
   "cell_type": "code",
   "execution_count": 29,
   "metadata": {},
   "outputs": [],
   "source": [
    "def get_city_from_maps(postal_code):\n",
    "    maps_url = \"http://maps.googleapis.com/maps/api/geocode/json?address=%d,Valencia,ES&language=es\" % postal_code\n",
    "    response = urllib.request.urlopen(maps_url).read().decode('utf-8')\n",
    "    jsoncity = json.loads(response)\n",
    "    try:\n",
    "        result = jsoncity['results'][0]\n",
    "        address_components = result['address_components']\n",
    "        city = province = aut_com = country = '-' # if not found use - as unknown\n",
    "        for item in address_components:\n",
    "            types = item['types']\n",
    "            if 'locality' in types:\n",
    "                city = item['long_name']\n",
    "            if 'administrative_area_level_2' in types:\n",
    "                province = item['long_name']\n",
    "            if 'administrative_area_level_1' in types:\n",
    "                aut_com = item['long_name']\n",
    "            if 'country' in types:\n",
    "                country = item['long_name']\n",
    "        lat = result['geometry']['location']['lat']\n",
    "        lon = result['geometry']['location']['lng']\n",
    "        city = City(city, province, aut_com, country, lat, lon)\n",
    "        return city\n",
    "    except:\n",
    "        return '-'"
   ]
  },
  {
   "cell_type": "code",
   "execution_count": 30,
   "metadata": {
    "collapsed": true
   },
   "outputs": [],
   "source": [
    "def get_city_info(sufix, postal_code):\n",
    "    if postal_code in cities:\n",
    "        city = cities[postal_code]\n",
    "    else:\n",
    "        city = get_city_from_maps(postal_code)\n",
    "        cities[postal_code] = city\n",
    "    return {\n",
    "        \"CIUDAD_\" + sufix: city.name,\n",
    "        \"PROV_\" + sufix: city.province,\n",
    "        \"COM_AUT_\" + sufix: city.aut_com,\n",
    "        \"PAIS_\" + sufix: city.country,\n",
    "        \"LAT_\" + sufix: city.lat,\n",
    "        \"LON_\" + sufix: city.lon\n",
    "    }"
   ]
  },
  {
   "cell_type": "code",
   "execution_count": 31,
   "metadata": {
    "scrolled": false
   },
   "outputs": [
    {
     "name": "stdout",
     "output_type": "stream",
     "text": [
      "http://maps.googleapis.com/maps/api/geocode/json?address=46001,Valencia,ES&language=es\n",
      "{'results': [{'place_id': 'ChIJQ2D3KUxPYA0RUH8TPnKvAhw', 'geometry': {'bounds': {'southwest': {'lat': 39.4682159, 'lng': -0.384238}, 'northeast': {'lat': 39.4769037, 'lng': -0.3751561}}, 'location_type': 'APPROXIMATE', 'location': {'lat': 39.4741757, 'lng': -0.380721}, 'viewport': {'southwest': {'lat': 39.4682159, 'lng': -0.384238}, 'northeast': {'lat': 39.4769037, 'lng': -0.3751561}}}, 'address_components': [{'long_name': '46001', 'short_name': '46001', 'types': ['postal_code']}, {'long_name': 'Valencia', 'short_name': 'Valencia', 'types': ['locality', 'political']}, {'long_name': 'Valencia', 'short_name': 'V', 'types': ['administrative_area_level_2', 'political']}, {'long_name': 'Comunidad Valenciana', 'short_name': 'Comunidad Valenciana', 'types': ['administrative_area_level_1', 'political']}, {'long_name': 'España', 'short_name': 'ES', 'types': ['country', 'political']}], 'formatted_address': '46001 Valencia, España', 'types': ['postal_code']}], 'status': 'OK'}\n",
      "http://maps.googleapis.com/maps/api/geocode/json?address=46002,Valencia,ES&language=es\n",
      "{'results': [{'place_id': 'ChIJQ_49p0xPYA0RMH8TPnKvAhw', 'geometry': {'bounds': {'southwest': {'lat': 39.46713889999999, 'lng': -0.3799071}, 'northeast': {'lat': 39.4739223, 'lng': -0.3707039}}, 'location_type': 'APPROXIMATE', 'location': {'lat': 39.4690149, 'lng': -0.3760125}, 'viewport': {'southwest': {'lat': 39.46713889999999, 'lng': -0.3799071}, 'northeast': {'lat': 39.4739223, 'lng': -0.3707039}}}, 'address_components': [{'long_name': '46002', 'short_name': '46002', 'types': ['postal_code']}, {'long_name': 'Valencia', 'short_name': 'Valencia', 'types': ['locality', 'political']}, {'long_name': 'Valencia', 'short_name': 'V', 'types': ['administrative_area_level_2', 'political']}, {'long_name': 'Comunidad Valenciana', 'short_name': 'Comunidad Valenciana', 'types': ['administrative_area_level_1', 'political']}, {'long_name': 'España', 'short_name': 'ES', 'types': ['country', 'political']}], 'formatted_address': '46002 Valencia, España', 'types': ['postal_code']}], 'status': 'OK'}\n",
      "http://maps.googleapis.com/maps/api/geocode/json?address=46003,Valencia,ES&language=es\n",
      "{'results': [{'place_id': 'ChIJPVgjslJPYA0REH8TPnKvAhw', 'geometry': {'bounds': {'southwest': {'lat': 39.4704214, 'lng': -0.3840297}, 'northeast': {'lat': 39.4821863, 'lng': -0.3660114}}, 'location_type': 'APPROXIMATE', 'location': {'lat': 39.4767864, 'lng': -0.3736584}, 'viewport': {'southwest': {'lat': 39.4704214, 'lng': -0.3840297}, 'northeast': {'lat': 39.4821863, 'lng': -0.3660114}}}, 'address_components': [{'long_name': '46003', 'short_name': '46003', 'types': ['postal_code']}, {'long_name': 'Valencia', 'short_name': 'Valencia', 'types': ['locality', 'political']}, {'long_name': 'Valencia', 'short_name': 'V', 'types': ['administrative_area_level_2', 'political']}, {'long_name': 'Comunidad Valenciana', 'short_name': 'Comunidad Valenciana', 'types': ['administrative_area_level_1', 'political']}, {'long_name': 'España', 'short_name': 'ES', 'types': ['country', 'political']}], 'formatted_address': '46003 Valencia, España', 'types': ['postal_code']}], 'status': 'OK'}\n",
      "http://maps.googleapis.com/maps/api/geocode/json?address=46004,Valencia,ES&language=es\n",
      "{'results': [{'place_id': 'ChIJnwa5NrRIYA0RAH8TPnKvAhw', 'geometry': {'bounds': {'southwest': {'lat': 39.4631976, 'lng': -0.3780229000000001}, 'northeast': {'lat': 39.4731007, 'lng': -0.3628301}}, 'location_type': 'APPROXIMATE', 'location': {'lat': 39.4683848, 'lng': -0.3707161}, 'viewport': {'southwest': {'lat': 39.4631976, 'lng': -0.3780229000000001}, 'northeast': {'lat': 39.4731007, 'lng': -0.3628301}}}, 'address_components': [{'long_name': '46004', 'short_name': '46004', 'types': ['postal_code']}, {'long_name': 'Valencia', 'short_name': 'Valencia', 'types': ['locality', 'political']}, {'long_name': 'Valencia', 'short_name': 'V', 'types': ['administrative_area_level_2', 'political']}, {'long_name': 'Comunidad Valenciana', 'short_name': 'Comunidad Valenciana', 'types': ['administrative_area_level_1', 'political']}, {'long_name': 'España', 'short_name': 'ES', 'types': ['country', 'political']}], 'formatted_address': '46004 Valencia, España', 'types': ['postal_code']}], 'status': 'OK'}\n",
      "http://maps.googleapis.com/maps/api/geocode/json?address=46005,Valencia,ES&language=es\n",
      "{'results': [{'place_id': 'ChIJwbWgMchIYA0R0IATPnKvAhw', 'geometry': {'bounds': {'southwest': {'lat': 39.4587896, 'lng': -0.37532}, 'northeast': {'lat': 39.469154, 'lng': -0.3598307}}, 'location_type': 'APPROXIMATE', 'location': {'lat': 39.463861, 'lng': -0.3689508}, 'viewport': {'southwest': {'lat': 39.4587896, 'lng': -0.37532}, 'northeast': {'lat': 39.469154, 'lng': -0.3598307}}}, 'address_components': [{'long_name': '46005', 'short_name': '46005', 'types': ['postal_code']}, {'long_name': 'Valencia', 'short_name': 'Valencia', 'types': ['locality', 'political']}, {'long_name': 'Valencia', 'short_name': 'V', 'types': ['administrative_area_level_2', 'political']}, {'long_name': 'Comunidad Valenciana', 'short_name': 'Comunidad Valenciana', 'types': ['administrative_area_level_1', 'political']}, {'long_name': 'España', 'short_name': 'ES', 'types': ['country', 'political']}], 'formatted_address': '46005 Valencia, España', 'types': ['postal_code']}], 'status': 'OK'}\n",
      "http://maps.googleapis.com/maps/api/geocode/json?address=46006,Valencia,ES&language=es\n",
      "{'results': [{'place_id': 'ChIJ5_wRaTVPYA0RlwpbpKmocCc', 'geometry': {'bounds': {'southwest': {'lat': 39.4525942, 'lng': -0.3817448}, 'northeast': {'lat': 39.4642796, 'lng': -0.3579616}}, 'location_type': 'APPROXIMATE', 'location': {'lat': 39.4560805, 'lng': -0.3736584}, 'viewport': {'southwest': {'lat': 39.4525942, 'lng': -0.3817448}, 'northeast': {'lat': 39.4642796, 'lng': -0.3579616}}}, 'address_components': [{'long_name': '46006', 'short_name': '46006', 'types': ['postal_code']}, {'long_name': 'Valencia', 'short_name': 'Valencia', 'types': ['locality', 'political']}, {'long_name': 'Valencia', 'short_name': 'V', 'types': ['administrative_area_level_2', 'political']}, {'long_name': 'Comunidad Valenciana', 'short_name': 'Comunidad Valenciana', 'types': ['administrative_area_level_1', 'political']}, {'long_name': 'España', 'short_name': 'ES', 'types': ['country', 'political']}], 'formatted_address': '46006 Valencia, España', 'types': ['postal_code']}], 'status': 'OK'}\n",
      "http://maps.googleapis.com/maps/api/geocode/json?address=46007,Valencia,ES&language=es\n",
      "{'results': [{'place_id': 'ChIJM_1XxDlPYA0RMIATPnKvAhw', 'geometry': {'bounds': {'southwest': {'lat': 39.4531528, 'lng': -0.3932474}, 'northeast': {'lat': 39.4703721, 'lng': -0.3762078}}, 'location_type': 'APPROXIMATE', 'location': {'lat': 39.4625251, 'lng': -0.3818982}, 'viewport': {'southwest': {'lat': 39.4531528, 'lng': -0.3932474}, 'northeast': {'lat': 39.4703721, 'lng': -0.3762078}}}, 'address_components': [{'long_name': '46007', 'short_name': '46007', 'types': ['postal_code']}, {'long_name': 'Valencia', 'short_name': 'Valencia', 'types': ['locality', 'political']}, {'long_name': 'Valencia', 'short_name': 'V', 'types': ['administrative_area_level_2', 'political']}, {'long_name': 'Comunidad Valenciana', 'short_name': 'Comunidad Valenciana', 'types': ['administrative_area_level_1', 'political']}, {'long_name': 'España', 'short_name': 'ES', 'types': ['country', 'political']}], 'formatted_address': '46007 Valencia, España', 'types': ['postal_code']}], 'status': 'OK'}\n",
      "http://maps.googleapis.com/maps/api/geocode/json?address=46008,Valencia,ES&language=es\n",
      "{'results': [{'place_id': 'ChIJ2VdzoUNPYA0RcNUUPnKvAhw', 'geometry': {'bounds': {'southwest': {'lat': 39.4643209, 'lng': -0.3962804}, 'northeast': {'lat': 39.4811861, 'lng': -0.3828977}}, 'location_type': 'APPROXIMATE', 'location': {'lat': 39.4728624, 'lng': -0.3866074}, 'viewport': {'southwest': {'lat': 39.4643209, 'lng': -0.3962804}, 'northeast': {'lat': 39.4811861, 'lng': -0.3828977}}}, 'address_components': [{'long_name': '46008', 'short_name': '46008', 'types': ['postal_code']}, {'long_name': 'Valencia', 'short_name': 'Valencia', 'types': ['locality', 'political']}, {'long_name': 'Valencia', 'short_name': 'V', 'types': ['administrative_area_level_2', 'political']}, {'long_name': 'Comunidad Valenciana', 'short_name': 'Comunidad Valenciana', 'types': ['administrative_area_level_1', 'political']}, {'long_name': 'España', 'short_name': 'ES', 'types': ['country', 'political']}], 'formatted_address': '46008 Valencia, España', 'types': ['postal_code']}], 'status': 'OK'}\n",
      "http://maps.googleapis.com/maps/api/geocode/json?address=46009,Valencia,ES&language=es\n",
      "{'results': [{'place_id': 'ChIJw0OTS1ZPYA0RgH8TPnKvAhw', 'geometry': {'bounds': {'southwest': {'lat': 39.4756457, 'lng': -0.3968569}, 'northeast': {'lat': 39.4922619, 'lng': -0.3684575}}, 'location_type': 'APPROXIMATE', 'location': {'lat': 39.4845265, 'lng': -0.380721}, 'viewport': {'southwest': {'lat': 39.4756457, 'lng': -0.3968569}, 'northeast': {'lat': 39.4922619, 'lng': -0.3684575}}}, 'address_components': [{'long_name': '46009', 'short_name': '46009', 'types': ['postal_code']}, {'long_name': 'Valencia', 'short_name': 'Valencia', 'types': ['locality', 'political']}, {'long_name': 'Valencia', 'short_name': 'V', 'types': ['administrative_area_level_2', 'political']}, {'long_name': 'Comunidad Valenciana', 'short_name': 'Comunidad Valenciana', 'types': ['administrative_area_level_1', 'political']}, {'long_name': 'España', 'short_name': 'ES', 'types': ['country', 'political']}], 'formatted_address': '46009 Valencia, España', 'types': ['postal_code']}], 'status': 'OK'}\n",
      "http://maps.googleapis.com/maps/api/geocode/json?address=46010,Valencia,ES&language=es\n",
      "{'results': [{'place_id': 'ChIJh0-HDKVIYA0R4IATPnKvAhw', 'geometry': {'bounds': {'southwest': {'lat': 39.4676179, 'lng': -0.3741798}, 'northeast': {'lat': 39.487992, 'lng': -0.3548975}}, 'location_type': 'APPROXIMATE', 'location': {'lat': 39.4781137, 'lng': -0.363067}, 'viewport': {'southwest': {'lat': 39.4676179, 'lng': -0.3741798}, 'northeast': {'lat': 39.487992, 'lng': -0.3548975}}}, 'address_components': [{'long_name': '46010', 'short_name': '46010', 'types': ['postal_code']}, {'long_name': 'Valencia', 'short_name': 'Valencia', 'types': ['locality', 'political']}, {'long_name': 'Valencia', 'short_name': 'V', 'types': ['administrative_area_level_2', 'political']}, {'long_name': 'Comunidad Valenciana', 'short_name': 'Comunidad Valenciana', 'types': ['administrative_area_level_1', 'political']}, {'long_name': 'España', 'short_name': 'ES', 'types': ['country', 'political']}], 'formatted_address': '46010 Valencia, España', 'types': ['postal_code']}], 'status': 'OK'}\n"
     ]
    },
    {
     "name": "stdout",
     "output_type": "stream",
     "text": [
      "http://maps.googleapis.com/maps/api/geocode/json?address=46011,Valencia,ES&language=es\n",
      "{'results': [{'place_id': 'ChIJdYkhLEdIYA0RUH4TPnKvAhw', 'geometry': {'bounds': {'southwest': {'lat': 39.4334972, 'lng': -0.3386977}, 'northeast': {'lat': 39.4862474, 'lng': -0.3019253}}, 'location_type': 'APPROXIMATE', 'location': {'lat': 39.46787279999999, 'lng': -0.3254317}, 'viewport': {'southwest': {'lat': 39.4334972, 'lng': -0.3386977}, 'northeast': {'lat': 39.4862474, 'lng': -0.3019253}}}, 'address_components': [{'long_name': '46011', 'short_name': '46011', 'types': ['postal_code']}, {'long_name': 'Valencia', 'short_name': 'Valencia', 'types': ['locality', 'political']}, {'long_name': 'Valencia', 'short_name': 'V', 'types': ['administrative_area_level_2', 'political']}, {'long_name': 'Comunidad Valenciana', 'short_name': 'Comunidad Valenciana', 'types': ['administrative_area_level_1', 'political']}, {'long_name': 'España', 'short_name': 'ES', 'types': ['country', 'political']}], 'formatted_address': '46011 Valencia, España', 'types': ['postal_code']}], 'status': 'OK'}\n",
      "http://maps.googleapis.com/maps/api/geocode/json?address=46012,Valencia,ES&language=es\n",
      "{'results': [{'place_id': 'ChIJk2eGkFRKYA0R8IATPnKvAhw', 'geometry': {'bounds': {'southwest': {'lat': 39.2790612, 'lng': -0.3988423}, 'northeast': {'lat': 39.4352716, 'lng': -0.2737457}}, 'location_type': 'APPROXIMATE', 'location': {'lat': 39.3512343, 'lng': -0.3465971}, 'viewport': {'southwest': {'lat': 39.2790612, 'lng': -0.3988423}, 'northeast': {'lat': 39.4352716, 'lng': -0.2737457}}}, 'address_components': [{'long_name': '46012', 'short_name': '46012', 'types': ['postal_code']}, {'long_name': 'Valencia', 'short_name': 'Valencia', 'types': ['locality', 'political']}, {'long_name': 'Valencia', 'short_name': 'V', 'types': ['administrative_area_level_2', 'political']}, {'long_name': 'Comunidad Valenciana', 'short_name': 'Comunidad Valenciana', 'types': ['administrative_area_level_1', 'political']}, {'long_name': 'España', 'short_name': 'ES', 'types': ['country', 'political']}], 'formatted_address': '46012 Valencia, España', 'types': ['postal_code']}], 'status': 'OK'}\n",
      "http://maps.googleapis.com/maps/api/geocode/json?address=46013,Valencia,ES&language=es\n",
      "{'results': [{'place_id': 'ChIJ9WGBft9IYA0RoIATPnKvAhw', 'geometry': {'bounds': {'southwest': {'lat': 39.4192302, 'lng': -0.3735487}, 'northeast': {'lat': 39.4602159, 'lng': -0.3406263}}, 'location_type': 'APPROXIMATE', 'location': {'lat': 39.4392925, 'lng': -0.3607137}, 'viewport': {'southwest': {'lat': 39.4192302, 'lng': -0.3735487}, 'northeast': {'lat': 39.4602159, 'lng': -0.3406263}}}, 'address_components': [{'long_name': '46013', 'short_name': '46013', 'types': ['postal_code']}, {'long_name': 'Valencia', 'short_name': 'Valencia', 'types': ['locality', 'political']}, {'long_name': 'Valencia', 'short_name': 'V', 'types': ['administrative_area_level_2', 'political']}, {'long_name': 'Comunidad Valenciana', 'short_name': 'Comunidad Valenciana', 'types': ['administrative_area_level_1', 'political']}, {'long_name': 'España', 'short_name': 'ES', 'types': ['country', 'political']}], 'formatted_address': '46013 Valencia, España', 'types': ['postal_code']}], 'status': 'OK'}\n",
      "http://maps.googleapis.com/maps/api/geocode/json?address=46014,Valencia,ES&language=es\n",
      "{'results': [{'place_id': 'ChIJFa8BAqhPYA0RsCQVPnKvAhw', 'geometry': {'bounds': {'southwest': {'lat': 39.4351054, 'lng': -0.4315155}, 'northeast': {'lat': 39.4729664, 'lng': -0.3931712}}, 'location_type': 'APPROXIMATE', 'location': {'lat': 39.4520748, 'lng': -0.4101619}, 'viewport': {'southwest': {'lat': 39.4351054, 'lng': -0.4315155}, 'northeast': {'lat': 39.4729664, 'lng': -0.3931712}}}, 'address_components': [{'long_name': '46014', 'short_name': '46014', 'types': ['postal_code']}, {'long_name': 'Valencia', 'short_name': 'Valencia', 'types': ['locality', 'political']}, {'long_name': 'Valencia', 'short_name': 'V', 'types': ['administrative_area_level_2', 'political']}, {'long_name': 'Comunidad Valenciana', 'short_name': 'Comunidad Valenciana', 'types': ['administrative_area_level_1', 'political']}, {'long_name': 'España', 'short_name': 'ES', 'types': ['country', 'political']}], 'formatted_address': '46014 Valencia, España', 'types': ['postal_code']}], 'status': 'OK'}\n",
      "http://maps.googleapis.com/maps/api/geocode/json?address=46015,Valencia,ES&language=es\n",
      "{'error_message': 'You have exceeded your rate-limit for this API.', 'results': [], 'status': 'OVER_QUERY_LIMIT'}\n"
     ]
    },
    {
     "ename": "AttributeError",
     "evalue": "'str' object has no attribute 'name'",
     "output_type": "error",
     "traceback": [
      "\u001b[0;31m---------------------------------------------------------------------------\u001b[0m",
      "\u001b[0;31mAttributeError\u001b[0m                            Traceback (most recent call last)",
      "\u001b[0;32m<ipython-input-31-273f6259ea82>\u001b[0m in \u001b[0;36m<module>\u001b[0;34m()\u001b[0m\n\u001b[1;32m      1\u001b[0m \u001b[0;31m# get information about cities (stores and clients) and add them to the df\u001b[0m\u001b[0;34m\u001b[0m\u001b[0;34m\u001b[0m\u001b[0m\n\u001b[0;32m----> 2\u001b[0;31m \u001b[0mclient_cols\u001b[0m \u001b[0;34m=\u001b[0m \u001b[0mpd\u001b[0m\u001b[0;34m.\u001b[0m\u001b[0mDataFrame\u001b[0m\u001b[0;34m.\u001b[0m\u001b[0mfrom_records\u001b[0m\u001b[0;34m(\u001b[0m\u001b[0mdf\u001b[0m\u001b[0;34m[\u001b[0m\u001b[0;34m'CP_CLIENTE'\u001b[0m\u001b[0;34m]\u001b[0m\u001b[0;34m.\u001b[0m\u001b[0mapply\u001b[0m\u001b[0;34m(\u001b[0m\u001b[0;32mlambda\u001b[0m \u001b[0mx\u001b[0m\u001b[0;34m:\u001b[0m \u001b[0mget_city_info\u001b[0m\u001b[0;34m(\u001b[0m\u001b[0;34m'CLIENTE'\u001b[0m\u001b[0;34m,\u001b[0m \u001b[0mx\u001b[0m\u001b[0;34m)\u001b[0m\u001b[0;34m)\u001b[0m\u001b[0;34m)\u001b[0m\u001b[0;34m\u001b[0m\u001b[0m\n\u001b[0m\u001b[1;32m      3\u001b[0m \u001b[0mstore_cols\u001b[0m \u001b[0;34m=\u001b[0m \u001b[0mpd\u001b[0m\u001b[0;34m.\u001b[0m\u001b[0mDataFrame\u001b[0m\u001b[0;34m.\u001b[0m\u001b[0mfrom_records\u001b[0m\u001b[0;34m(\u001b[0m\u001b[0mdf\u001b[0m\u001b[0;34m[\u001b[0m\u001b[0;34m'CP_COMERCIO'\u001b[0m\u001b[0;34m]\u001b[0m\u001b[0;34m.\u001b[0m\u001b[0mapply\u001b[0m\u001b[0;34m(\u001b[0m\u001b[0;32mlambda\u001b[0m \u001b[0mx\u001b[0m\u001b[0;34m:\u001b[0m \u001b[0mget_city_info\u001b[0m\u001b[0;34m(\u001b[0m\u001b[0;34m'COMERCIO'\u001b[0m\u001b[0;34m,\u001b[0m \u001b[0mx\u001b[0m\u001b[0;34m)\u001b[0m\u001b[0;34m)\u001b[0m\u001b[0;34m)\u001b[0m\u001b[0;34m\u001b[0m\u001b[0m\n\u001b[1;32m      4\u001b[0m \u001b[0mdf\u001b[0m \u001b[0;34m=\u001b[0m \u001b[0mpd\u001b[0m\u001b[0;34m.\u001b[0m\u001b[0mconcat\u001b[0m\u001b[0;34m(\u001b[0m\u001b[0;34m[\u001b[0m\u001b[0mdf\u001b[0m\u001b[0;34m,\u001b[0m \u001b[0mclient_cols\u001b[0m\u001b[0;34m]\u001b[0m\u001b[0;34m,\u001b[0m \u001b[0maxis\u001b[0m\u001b[0;34m=\u001b[0m\u001b[0;36m1\u001b[0m\u001b[0;34m)\u001b[0m\u001b[0;34m\u001b[0m\u001b[0m\n\u001b[1;32m      5\u001b[0m \u001b[0mdf\u001b[0m \u001b[0;34m=\u001b[0m \u001b[0mpd\u001b[0m\u001b[0;34m.\u001b[0m\u001b[0mconcat\u001b[0m\u001b[0;34m(\u001b[0m\u001b[0;34m[\u001b[0m\u001b[0mdf\u001b[0m\u001b[0;34m,\u001b[0m \u001b[0mstore_cols\u001b[0m\u001b[0;34m]\u001b[0m\u001b[0;34m,\u001b[0m \u001b[0maxis\u001b[0m\u001b[0;34m=\u001b[0m\u001b[0;36m1\u001b[0m\u001b[0;34m)\u001b[0m\u001b[0;34m\u001b[0m\u001b[0m\n",
      "\u001b[0;32m/usr/local/lib/python3.5/dist-packages/pandas/core/series.py\u001b[0m in \u001b[0;36mapply\u001b[0;34m(self, func, convert_dtype, args, **kwds)\u001b[0m\n\u001b[1;32m   2353\u001b[0m             \u001b[0;32melse\u001b[0m\u001b[0;34m:\u001b[0m\u001b[0;34m\u001b[0m\u001b[0m\n\u001b[1;32m   2354\u001b[0m                 \u001b[0mvalues\u001b[0m \u001b[0;34m=\u001b[0m \u001b[0mself\u001b[0m\u001b[0;34m.\u001b[0m\u001b[0masobject\u001b[0m\u001b[0;34m\u001b[0m\u001b[0m\n\u001b[0;32m-> 2355\u001b[0;31m                 \u001b[0mmapped\u001b[0m \u001b[0;34m=\u001b[0m \u001b[0mlib\u001b[0m\u001b[0;34m.\u001b[0m\u001b[0mmap_infer\u001b[0m\u001b[0;34m(\u001b[0m\u001b[0mvalues\u001b[0m\u001b[0;34m,\u001b[0m \u001b[0mf\u001b[0m\u001b[0;34m,\u001b[0m \u001b[0mconvert\u001b[0m\u001b[0;34m=\u001b[0m\u001b[0mconvert_dtype\u001b[0m\u001b[0;34m)\u001b[0m\u001b[0;34m\u001b[0m\u001b[0m\n\u001b[0m\u001b[1;32m   2356\u001b[0m \u001b[0;34m\u001b[0m\u001b[0m\n\u001b[1;32m   2357\u001b[0m         \u001b[0;32mif\u001b[0m \u001b[0mlen\u001b[0m\u001b[0;34m(\u001b[0m\u001b[0mmapped\u001b[0m\u001b[0;34m)\u001b[0m \u001b[0;32mand\u001b[0m \u001b[0misinstance\u001b[0m\u001b[0;34m(\u001b[0m\u001b[0mmapped\u001b[0m\u001b[0;34m[\u001b[0m\u001b[0;36m0\u001b[0m\u001b[0;34m]\u001b[0m\u001b[0;34m,\u001b[0m \u001b[0mSeries\u001b[0m\u001b[0;34m)\u001b[0m\u001b[0;34m:\u001b[0m\u001b[0;34m\u001b[0m\u001b[0m\n",
      "\u001b[0;32mpandas/_libs/src/inference.pyx\u001b[0m in \u001b[0;36mpandas._libs.lib.map_infer (pandas/_libs/lib.c:66645)\u001b[0;34m()\u001b[0m\n",
      "\u001b[0;32m<ipython-input-31-273f6259ea82>\u001b[0m in \u001b[0;36m<lambda>\u001b[0;34m(x)\u001b[0m\n\u001b[1;32m      1\u001b[0m \u001b[0;31m# get information about cities (stores and clients) and add them to the df\u001b[0m\u001b[0;34m\u001b[0m\u001b[0;34m\u001b[0m\u001b[0m\n\u001b[0;32m----> 2\u001b[0;31m \u001b[0mclient_cols\u001b[0m \u001b[0;34m=\u001b[0m \u001b[0mpd\u001b[0m\u001b[0;34m.\u001b[0m\u001b[0mDataFrame\u001b[0m\u001b[0;34m.\u001b[0m\u001b[0mfrom_records\u001b[0m\u001b[0;34m(\u001b[0m\u001b[0mdf\u001b[0m\u001b[0;34m[\u001b[0m\u001b[0;34m'CP_CLIENTE'\u001b[0m\u001b[0;34m]\u001b[0m\u001b[0;34m.\u001b[0m\u001b[0mapply\u001b[0m\u001b[0;34m(\u001b[0m\u001b[0;32mlambda\u001b[0m \u001b[0mx\u001b[0m\u001b[0;34m:\u001b[0m \u001b[0mget_city_info\u001b[0m\u001b[0;34m(\u001b[0m\u001b[0;34m'CLIENTE'\u001b[0m\u001b[0;34m,\u001b[0m \u001b[0mx\u001b[0m\u001b[0;34m)\u001b[0m\u001b[0;34m)\u001b[0m\u001b[0;34m)\u001b[0m\u001b[0;34m\u001b[0m\u001b[0m\n\u001b[0m\u001b[1;32m      3\u001b[0m \u001b[0mstore_cols\u001b[0m \u001b[0;34m=\u001b[0m \u001b[0mpd\u001b[0m\u001b[0;34m.\u001b[0m\u001b[0mDataFrame\u001b[0m\u001b[0;34m.\u001b[0m\u001b[0mfrom_records\u001b[0m\u001b[0;34m(\u001b[0m\u001b[0mdf\u001b[0m\u001b[0;34m[\u001b[0m\u001b[0;34m'CP_COMERCIO'\u001b[0m\u001b[0;34m]\u001b[0m\u001b[0;34m.\u001b[0m\u001b[0mapply\u001b[0m\u001b[0;34m(\u001b[0m\u001b[0;32mlambda\u001b[0m \u001b[0mx\u001b[0m\u001b[0;34m:\u001b[0m \u001b[0mget_city_info\u001b[0m\u001b[0;34m(\u001b[0m\u001b[0;34m'COMERCIO'\u001b[0m\u001b[0;34m,\u001b[0m \u001b[0mx\u001b[0m\u001b[0;34m)\u001b[0m\u001b[0;34m)\u001b[0m\u001b[0;34m)\u001b[0m\u001b[0;34m\u001b[0m\u001b[0m\n\u001b[1;32m      4\u001b[0m \u001b[0mdf\u001b[0m \u001b[0;34m=\u001b[0m \u001b[0mpd\u001b[0m\u001b[0;34m.\u001b[0m\u001b[0mconcat\u001b[0m\u001b[0;34m(\u001b[0m\u001b[0;34m[\u001b[0m\u001b[0mdf\u001b[0m\u001b[0;34m,\u001b[0m \u001b[0mclient_cols\u001b[0m\u001b[0;34m]\u001b[0m\u001b[0;34m,\u001b[0m \u001b[0maxis\u001b[0m\u001b[0;34m=\u001b[0m\u001b[0;36m1\u001b[0m\u001b[0;34m)\u001b[0m\u001b[0;34m\u001b[0m\u001b[0m\n\u001b[1;32m      5\u001b[0m \u001b[0mdf\u001b[0m \u001b[0;34m=\u001b[0m \u001b[0mpd\u001b[0m\u001b[0;34m.\u001b[0m\u001b[0mconcat\u001b[0m\u001b[0;34m(\u001b[0m\u001b[0;34m[\u001b[0m\u001b[0mdf\u001b[0m\u001b[0;34m,\u001b[0m \u001b[0mstore_cols\u001b[0m\u001b[0;34m]\u001b[0m\u001b[0;34m,\u001b[0m \u001b[0maxis\u001b[0m\u001b[0;34m=\u001b[0m\u001b[0;36m1\u001b[0m\u001b[0;34m)\u001b[0m\u001b[0;34m\u001b[0m\u001b[0m\n",
      "\u001b[0;32m<ipython-input-30-388829c3564f>\u001b[0m in \u001b[0;36mget_city_info\u001b[0;34m(sufix, postal_code)\u001b[0m\n\u001b[1;32m      6\u001b[0m         \u001b[0mcities\u001b[0m\u001b[0;34m[\u001b[0m\u001b[0mpostal_code\u001b[0m\u001b[0;34m]\u001b[0m \u001b[0;34m=\u001b[0m \u001b[0mcity\u001b[0m\u001b[0;34m\u001b[0m\u001b[0m\n\u001b[1;32m      7\u001b[0m     return {\n\u001b[0;32m----> 8\u001b[0;31m         \u001b[0;34m\"CIUDAD_\"\u001b[0m \u001b[0;34m+\u001b[0m \u001b[0msufix\u001b[0m\u001b[0;34m:\u001b[0m \u001b[0mcity\u001b[0m\u001b[0;34m.\u001b[0m\u001b[0mname\u001b[0m\u001b[0;34m,\u001b[0m\u001b[0;34m\u001b[0m\u001b[0m\n\u001b[0m\u001b[1;32m      9\u001b[0m         \u001b[0;34m\"PROV_\"\u001b[0m \u001b[0;34m+\u001b[0m \u001b[0msufix\u001b[0m\u001b[0;34m:\u001b[0m \u001b[0mcity\u001b[0m\u001b[0;34m.\u001b[0m\u001b[0mprovince\u001b[0m\u001b[0;34m,\u001b[0m\u001b[0;34m\u001b[0m\u001b[0m\n\u001b[1;32m     10\u001b[0m         \u001b[0;34m\"COM_AUT_\"\u001b[0m \u001b[0;34m+\u001b[0m \u001b[0msufix\u001b[0m\u001b[0;34m:\u001b[0m \u001b[0mcity\u001b[0m\u001b[0;34m.\u001b[0m\u001b[0maut_com\u001b[0m\u001b[0;34m,\u001b[0m\u001b[0;34m\u001b[0m\u001b[0m\n",
      "\u001b[0;31mAttributeError\u001b[0m: 'str' object has no attribute 'name'"
     ]
    }
   ],
   "source": [
    "# get information about cities (stores and clients) and add them to the df\n",
    "client_cols = pd.DataFrame.from_records(df['CP_CLIENTE'].apply(lambda x: get_city_info('CLIENTE', x)))\n",
    "store_cols = pd.DataFrame.from_records(df['CP_COMERCIO'].apply(lambda x: get_city_info('COMERCIO', x)))\n",
    "df = pd.concat([df, client_cols], axis=1)\n",
    "df = pd.concat([df, store_cols], axis=1)"
   ]
  },
  {
   "cell_type": "markdown",
   "metadata": {},
   "source": [
    "Let's check now how it looks."
   ]
  },
  {
   "cell_type": "code",
   "execution_count": 10,
   "metadata": {},
   "outputs": [
    {
     "data": {
      "text/html": [
       "<div>\n",
       "<table border=\"1\" class=\"dataframe\">\n",
       "  <thead>\n",
       "    <tr style=\"text-align: right;\">\n",
       "      <th></th>\n",
       "      <th>CP_CLIENTE</th>\n",
       "      <th>CP_COMERCIO</th>\n",
       "      <th>SECTOR</th>\n",
       "      <th>DIA</th>\n",
       "      <th>FRANJA_HORARIA</th>\n",
       "      <th>IMPORTE</th>\n",
       "      <th>NUM_OP</th>\n",
       "      <th>CIUDAD_CLIENTE</th>\n",
       "      <th>COM_AUT_CLIENTE</th>\n",
       "      <th>LAT_CLIENTE</th>\n",
       "      <th>LON_CLIENTE</th>\n",
       "      <th>PAIS_CLIENTE</th>\n",
       "      <th>PROV_CLIENTE</th>\n",
       "      <th>CIUDAD_COMERCIO</th>\n",
       "      <th>COM_AUT_COMERCIO</th>\n",
       "      <th>LAT_COMERCIO</th>\n",
       "      <th>LON_COMERCIO</th>\n",
       "      <th>PAIS_COMERCIO</th>\n",
       "      <th>PROV_COMERCIO</th>\n",
       "    </tr>\n",
       "  </thead>\n",
       "  <tbody>\n",
       "    <tr>\n",
       "      <th>0</th>\n",
       "      <td>46001</td>\n",
       "      <td>46001</td>\n",
       "      <td>RESTAURACION</td>\n",
       "      <td>2015-01-02</td>\n",
       "      <td>16-18</td>\n",
       "      <td>2.70</td>\n",
       "      <td>1</td>\n",
       "      <td>Valencia</td>\n",
       "      <td>Comunidad Valenciana</td>\n",
       "      <td>39.474176</td>\n",
       "      <td>-0.380721</td>\n",
       "      <td>España</td>\n",
       "      <td>Valencia</td>\n",
       "      <td>Valencia</td>\n",
       "      <td>Comunidad Valenciana</td>\n",
       "      <td>39.474176</td>\n",
       "      <td>-0.380721</td>\n",
       "      <td>España</td>\n",
       "      <td>Valencia</td>\n",
       "    </tr>\n",
       "    <tr>\n",
       "      <th>1</th>\n",
       "      <td>46001</td>\n",
       "      <td>46001</td>\n",
       "      <td>RESTAURACION</td>\n",
       "      <td>2015-01-02</td>\n",
       "      <td>20-22</td>\n",
       "      <td>20.00</td>\n",
       "      <td>1</td>\n",
       "      <td>Valencia</td>\n",
       "      <td>Comunidad Valenciana</td>\n",
       "      <td>39.474176</td>\n",
       "      <td>-0.380721</td>\n",
       "      <td>España</td>\n",
       "      <td>Valencia</td>\n",
       "      <td>Valencia</td>\n",
       "      <td>Comunidad Valenciana</td>\n",
       "      <td>39.474176</td>\n",
       "      <td>-0.380721</td>\n",
       "      <td>España</td>\n",
       "      <td>Valencia</td>\n",
       "    </tr>\n",
       "    <tr>\n",
       "      <th>2</th>\n",
       "      <td>46001</td>\n",
       "      <td>46001</td>\n",
       "      <td>RESTAURACION</td>\n",
       "      <td>2015-01-03</td>\n",
       "      <td>22-24</td>\n",
       "      <td>13.50</td>\n",
       "      <td>1</td>\n",
       "      <td>Valencia</td>\n",
       "      <td>Comunidad Valenciana</td>\n",
       "      <td>39.474176</td>\n",
       "      <td>-0.380721</td>\n",
       "      <td>España</td>\n",
       "      <td>Valencia</td>\n",
       "      <td>Valencia</td>\n",
       "      <td>Comunidad Valenciana</td>\n",
       "      <td>39.474176</td>\n",
       "      <td>-0.380721</td>\n",
       "      <td>España</td>\n",
       "      <td>Valencia</td>\n",
       "    </tr>\n",
       "    <tr>\n",
       "      <th>3</th>\n",
       "      <td>46001</td>\n",
       "      <td>46001</td>\n",
       "      <td>RESTAURACION</td>\n",
       "      <td>2015-01-06</td>\n",
       "      <td>22-24</td>\n",
       "      <td>16.80</td>\n",
       "      <td>1</td>\n",
       "      <td>Valencia</td>\n",
       "      <td>Comunidad Valenciana</td>\n",
       "      <td>39.474176</td>\n",
       "      <td>-0.380721</td>\n",
       "      <td>España</td>\n",
       "      <td>Valencia</td>\n",
       "      <td>Valencia</td>\n",
       "      <td>Comunidad Valenciana</td>\n",
       "      <td>39.474176</td>\n",
       "      <td>-0.380721</td>\n",
       "      <td>España</td>\n",
       "      <td>Valencia</td>\n",
       "    </tr>\n",
       "    <tr>\n",
       "      <th>4</th>\n",
       "      <td>46001</td>\n",
       "      <td>46001</td>\n",
       "      <td>RESTAURACION</td>\n",
       "      <td>2015-01-07</td>\n",
       "      <td>14-16</td>\n",
       "      <td>16.25</td>\n",
       "      <td>1</td>\n",
       "      <td>Valencia</td>\n",
       "      <td>Comunidad Valenciana</td>\n",
       "      <td>39.474176</td>\n",
       "      <td>-0.380721</td>\n",
       "      <td>España</td>\n",
       "      <td>Valencia</td>\n",
       "      <td>Valencia</td>\n",
       "      <td>Comunidad Valenciana</td>\n",
       "      <td>39.474176</td>\n",
       "      <td>-0.380721</td>\n",
       "      <td>España</td>\n",
       "      <td>Valencia</td>\n",
       "    </tr>\n",
       "  </tbody>\n",
       "</table>\n",
       "</div>"
      ],
      "text/plain": [
       "   CP_CLIENTE  CP_COMERCIO        SECTOR         DIA FRANJA_HORARIA  IMPORTE  \\\n",
       "0       46001        46001  RESTAURACION  2015-01-02          16-18     2.70   \n",
       "1       46001        46001  RESTAURACION  2015-01-02          20-22    20.00   \n",
       "2       46001        46001  RESTAURACION  2015-01-03          22-24    13.50   \n",
       "3       46001        46001  RESTAURACION  2015-01-06          22-24    16.80   \n",
       "4       46001        46001  RESTAURACION  2015-01-07          14-16    16.25   \n",
       "\n",
       "   NUM_OP CIUDAD_CLIENTE       COM_AUT_CLIENTE  LAT_CLIENTE  LON_CLIENTE  \\\n",
       "0       1       Valencia  Comunidad Valenciana    39.474176    -0.380721   \n",
       "1       1       Valencia  Comunidad Valenciana    39.474176    -0.380721   \n",
       "2       1       Valencia  Comunidad Valenciana    39.474176    -0.380721   \n",
       "3       1       Valencia  Comunidad Valenciana    39.474176    -0.380721   \n",
       "4       1       Valencia  Comunidad Valenciana    39.474176    -0.380721   \n",
       "\n",
       "  PAIS_CLIENTE PROV_CLIENTE CIUDAD_COMERCIO      COM_AUT_COMERCIO  \\\n",
       "0       España     Valencia        Valencia  Comunidad Valenciana   \n",
       "1       España     Valencia        Valencia  Comunidad Valenciana   \n",
       "2       España     Valencia        Valencia  Comunidad Valenciana   \n",
       "3       España     Valencia        Valencia  Comunidad Valenciana   \n",
       "4       España     Valencia        Valencia  Comunidad Valenciana   \n",
       "\n",
       "   LAT_COMERCIO  LON_COMERCIO PAIS_COMERCIO PROV_COMERCIO  \n",
       "0     39.474176     -0.380721        España      Valencia  \n",
       "1     39.474176     -0.380721        España      Valencia  \n",
       "2     39.474176     -0.380721        España      Valencia  \n",
       "3     39.474176     -0.380721        España      Valencia  \n",
       "4     39.474176     -0.380721        España      Valencia  "
      ]
     },
     "execution_count": 10,
     "metadata": {},
     "output_type": "execute_result"
    }
   ],
   "source": [
    "df.head(5)"
   ]
  },
  {
   "cell_type": "code",
   "execution_count": 14,
   "metadata": {},
   "outputs": [
    {
     "data": {
      "text/plain": [
       "CIUDAD_CLIENTE\n",
       "Ador                       877\n",
       "Agullent                   411\n",
       "Alacuás                  24345\n",
       "Albaida                   1815\n",
       "Albalat de Taronchers      338\n",
       "dtype: int64"
      ]
     },
     "execution_count": 14,
     "metadata": {},
     "output_type": "execute_result"
    }
   ],
   "source": [
    "# check cities\n",
    "df.groupby('CIUDAD_CLIENTE').size().head(5)"
   ]
  },
  {
   "cell_type": "markdown",
   "metadata": {},
   "source": [
    "Some cities are unknown for the Google API, so the information is searched manually (since they are only two CPs)."
   ]
  },
  {
   "cell_type": "code",
   "execution_count": 15,
   "metadata": {},
   "outputs": [
    {
     "data": {
      "text/plain": [
       "Series([], dtype: int64)"
      ]
     },
     "execution_count": 15,
     "metadata": {},
     "output_type": "execute_result"
    }
   ],
   "source": [
    "# check which cities couldn't be mapped with gmaps api\n",
    "df[df['CIUDAD_CLIENTE']=='-'].groupby('CP_CLIENTE').size()"
   ]
  },
  {
   "cell_type": "code",
   "execution_count": 16,
   "metadata": {
    "collapsed": true
   },
   "outputs": [],
   "source": [
    "# manually set them\n",
    "df.loc[(df['CIUDAD_CLIENTE']=='-') & (df['CP_CLIENTE']==46192),['CIUDAD_CLIENTE']] = 'Montserrat'\n",
    "df.loc[(df['CIUDAD_CLIENTE']=='-') & (df['CP_CLIENTE']==46292),['CIUDAD_CLIENTE']] = 'Masalavés'"
   ]
  },
  {
   "cell_type": "code",
   "execution_count": 17,
   "metadata": {
    "collapsed": true
   },
   "outputs": [],
   "source": [
    "# these values may be useful with more data, but for this use-case\n",
    "# we don't actually need them so we delete them from the dataframe\n",
    "del df['PROV_CLIENTE']\n",
    "del df['PAIS_CLIENTE']\n",
    "del df['COM_AUT_CLIENTE']\n",
    "del df['PROV_COMERCIO']\n",
    "del df['COM_AUT_COMERCIO']\n",
    "del df['PAIS_COMERCIO']"
   ]
  },
  {
   "cell_type": "markdown",
   "metadata": {},
   "source": [
    "Saving partial dataset."
   ]
  },
  {
   "cell_type": "code",
   "execution_count": 18,
   "metadata": {
    "collapsed": true
   },
   "outputs": [],
   "source": [
    "df.to_csv('data/payments_w_city.txt', sep='|', index=False,  decimal=\".\")"
   ]
  },
  {
   "cell_type": "code",
   "execution_count": 20,
   "metadata": {
    "collapsed": true
   },
   "outputs": [],
   "source": [
    "df = pd.read_csv('/home/fede/workspace/DataLab/PyDataLab/data/payments_w_city.txt', sep='|', header=0)"
   ]
  },
  {
   "cell_type": "markdown",
   "metadata": {},
   "source": [
    "Improve the date time columns for later uses."
   ]
  },
  {
   "cell_type": "code",
   "execution_count": 21,
   "metadata": {},
   "outputs": [
    {
     "data": {
      "text/plain": [
       "0    2015-01-02 16:00:00\n",
       "1    2015-01-02 20:00:00\n",
       "2    2015-01-03 22:00:00\n",
       "3    2015-01-06 22:00:00\n",
       "4    2015-01-07 14:00:00\n",
       "Name: FECHA, dtype: object"
      ]
     },
     "execution_count": 21,
     "metadata": {},
     "output_type": "execute_result"
    }
   ],
   "source": [
    "df['FECHA'] = df['DIA'] + ' ' + df['FRANJA_HORARIA'].str[:2] + ':00:00'\n",
    "df['FECHA'].head(5)"
   ]
  },
  {
   "cell_type": "code",
   "execution_count": 22,
   "metadata": {
    "collapsed": true
   },
   "outputs": [],
   "source": [
    "import time, datetime\n",
    "def date_to_millis(date):\n",
    "    timestamp = time.mktime(datetime.datetime.strptime(date, \"%Y-%m-%d %H:%M:%S\").timetuple())\n",
    "    return timestamp"
   ]
  },
  {
   "cell_type": "code",
   "execution_count": 23,
   "metadata": {},
   "outputs": [
    {
     "data": {
      "text/plain": [
       "0    1420210800\n",
       "1    1420225200\n",
       "2    1420318800\n",
       "3    1420578000\n",
       "4    1420635600\n",
       "Name: TIMESTAMP, dtype: int64"
      ]
     },
     "execution_count": 23,
     "metadata": {},
     "output_type": "execute_result"
    }
   ],
   "source": [
    "df['TIMESTAMP'] = df['FECHA'].apply(date_to_millis)\n",
    "df['TIMESTAMP'] = df['TIMESTAMP'].astype(np.int64)\n",
    "df['TIMESTAMP'].head(5)"
   ]
  },
  {
   "cell_type": "markdown",
   "metadata": {},
   "source": [
    "Now let's use the darksky API to look for the historical weather information. Since the combination of cities and dates is way too big (the API is not free), it's assumed that all cities shared the same (or almost) weather at a point of time, since all of them are 'quite' close together."
   ]
  },
  {
   "cell_type": "code",
   "execution_count": 104,
   "metadata": {
    "collapsed": true
   },
   "outputs": [],
   "source": [
    "# we are going to save, by lat+lon and by timestamp, the weather information\n",
    "weather_map = {}"
   ]
  },
  {
   "cell_type": "code",
   "execution_count": 105,
   "metadata": {
    "collapsed": true
   },
   "outputs": [],
   "source": [
    "# city object with info needed obtained from gmaps\n",
    "class Weather:\n",
    "    def __init__(self, summary, temperature, humidity, apparent_temperature):\n",
    "        self.summary = summary\n",
    "        self.temperature = temperature\n",
    "        self.humidity = humidity\n",
    "        self.apparent_temperature = apparent_temperature\n",
    "    def __repr__(self):\n",
    "        return self.summary"
   ]
  },
  {
   "cell_type": "code",
   "execution_count": 106,
   "metadata": {
    "collapsed": true
   },
   "outputs": [],
   "source": [
    "def get_weather_darksky(timestamp):\n",
    "    lat = '39.47'\n",
    "    lon = '-0.38'\n",
    "    secret_key = #'e455eac0e5b7f4740f7f72eda32d8b10' # hidden because it can cost money\n",
    "    dark_sky_url = 'https://api.darksky.net/forecast/%s/%s,%s,%d?lang=es&units=si' % (secret_key, lat, lon, timestamp)\n",
    "    response = urllib.request.urlopen(dark_sky_url).read().decode('utf-8')\n",
    "    json_weather = json.loads(response)\n",
    "    data = json_weather['hourly']['data']\n",
    "    for item in data:\n",
    "        time = item['time']\n",
    "        temperature = item['temperature']\n",
    "        summary = item['summary']\n",
    "        humidity = item['humidity']\n",
    "        apparent_temperature = item['apparentTemperature']\n",
    "        weather_obj = Weather(summary, temperature, humidity, apparent_temperature)\n",
    "        weather_map[time] = weather_obj"
   ]
  },
  {
   "cell_type": "code",
   "execution_count": 107,
   "metadata": {
    "collapsed": true
   },
   "outputs": [],
   "source": [
    "def get_weather_info(timestamp):\n",
    "    if timestamp in weather_map:\n",
    "        weather = weather_map[timestamp]\n",
    "    else:\n",
    "        get_weather_darksky(timestamp)\n",
    "        weather = weather_map[timestamp]\n",
    "    return {\n",
    "        \"TEMPERATURA\": weather.temperature,\n",
    "        \"HUMEDAD\": weather.humidity,\n",
    "        \"SENSAC_TERMICA\": weather.apparent_temperature,\n",
    "        \"TIEMPO_DESC\": weather.summary\n",
    "    }"
   ]
  },
  {
   "cell_type": "code",
   "execution_count": 108,
   "metadata": {
    "collapsed": true
   },
   "outputs": [],
   "source": [
    "weather_cols = pd.DataFrame.from_records(df['TIMESTAMP'].apply(get_weather_info))\n",
    "df = pd.concat([df, weather_cols], axis=1)"
   ]
  },
  {
   "cell_type": "code",
   "execution_count": 111,
   "metadata": {},
   "outputs": [
    {
     "data": {
      "text/html": [
       "<div>\n",
       "<table border=\"1\" class=\"dataframe\">\n",
       "  <thead>\n",
       "    <tr style=\"text-align: right;\">\n",
       "      <th></th>\n",
       "      <th>CP_CLIENTE</th>\n",
       "      <th>CP_COMERCIO</th>\n",
       "      <th>SECTOR</th>\n",
       "      <th>DIA</th>\n",
       "      <th>FRANJA_HORARIA</th>\n",
       "      <th>IMPORTE</th>\n",
       "      <th>NUM_OP</th>\n",
       "      <th>CIUDAD_CLIENTE</th>\n",
       "      <th>LAT_CLIENTE</th>\n",
       "      <th>LON_CLIENTE</th>\n",
       "      <th>CIUDAD_COMERCIO</th>\n",
       "      <th>LAT_COMERCIO</th>\n",
       "      <th>LON_COMERCIO</th>\n",
       "      <th>FECHA</th>\n",
       "      <th>TIMESTAMP</th>\n",
       "      <th>HUMEDAD</th>\n",
       "      <th>SENSAC_TERMICA</th>\n",
       "      <th>TEMPERATURA</th>\n",
       "      <th>TIEMPO_DESC</th>\n",
       "    </tr>\n",
       "  </thead>\n",
       "  <tbody>\n",
       "    <tr>\n",
       "      <th>0</th>\n",
       "      <td>46001</td>\n",
       "      <td>46001</td>\n",
       "      <td>RESTAURACION</td>\n",
       "      <td>2015-01-02</td>\n",
       "      <td>16-18</td>\n",
       "      <td>2.70</td>\n",
       "      <td>1</td>\n",
       "      <td>Valencia</td>\n",
       "      <td>39.474176</td>\n",
       "      <td>-0.380721</td>\n",
       "      <td>Valencia</td>\n",
       "      <td>39.474176</td>\n",
       "      <td>-0.380721</td>\n",
       "      <td>2015-01-02 16:00:00</td>\n",
       "      <td>1420210800</td>\n",
       "      <td>0.33</td>\n",
       "      <td>16.99</td>\n",
       "      <td>16.99</td>\n",
       "      <td>Parcialmente Nublado</td>\n",
       "    </tr>\n",
       "    <tr>\n",
       "      <th>1</th>\n",
       "      <td>46001</td>\n",
       "      <td>46001</td>\n",
       "      <td>RESTAURACION</td>\n",
       "      <td>2015-01-02</td>\n",
       "      <td>20-22</td>\n",
       "      <td>20.00</td>\n",
       "      <td>1</td>\n",
       "      <td>Valencia</td>\n",
       "      <td>39.474176</td>\n",
       "      <td>-0.380721</td>\n",
       "      <td>Valencia</td>\n",
       "      <td>39.474176</td>\n",
       "      <td>-0.380721</td>\n",
       "      <td>2015-01-02 20:00:00</td>\n",
       "      <td>1420225200</td>\n",
       "      <td>0.73</td>\n",
       "      <td>6.26</td>\n",
       "      <td>7.08</td>\n",
       "      <td>Despejado</td>\n",
       "    </tr>\n",
       "    <tr>\n",
       "      <th>2</th>\n",
       "      <td>46001</td>\n",
       "      <td>46001</td>\n",
       "      <td>RESTAURACION</td>\n",
       "      <td>2015-01-03</td>\n",
       "      <td>22-24</td>\n",
       "      <td>13.50</td>\n",
       "      <td>1</td>\n",
       "      <td>Valencia</td>\n",
       "      <td>39.474176</td>\n",
       "      <td>-0.380721</td>\n",
       "      <td>Valencia</td>\n",
       "      <td>39.474176</td>\n",
       "      <td>-0.380721</td>\n",
       "      <td>2015-01-03 22:00:00</td>\n",
       "      <td>1420318800</td>\n",
       "      <td>0.59</td>\n",
       "      <td>8.27</td>\n",
       "      <td>9.81</td>\n",
       "      <td>Despejado</td>\n",
       "    </tr>\n",
       "    <tr>\n",
       "      <th>3</th>\n",
       "      <td>46001</td>\n",
       "      <td>46001</td>\n",
       "      <td>RESTAURACION</td>\n",
       "      <td>2015-01-06</td>\n",
       "      <td>22-24</td>\n",
       "      <td>16.80</td>\n",
       "      <td>1</td>\n",
       "      <td>Valencia</td>\n",
       "      <td>39.474176</td>\n",
       "      <td>-0.380721</td>\n",
       "      <td>Valencia</td>\n",
       "      <td>39.474176</td>\n",
       "      <td>-0.380721</td>\n",
       "      <td>2015-01-06 22:00:00</td>\n",
       "      <td>1420578000</td>\n",
       "      <td>0.95</td>\n",
       "      <td>7.42</td>\n",
       "      <td>7.42</td>\n",
       "      <td>Parcialmente Nublado</td>\n",
       "    </tr>\n",
       "    <tr>\n",
       "      <th>4</th>\n",
       "      <td>46001</td>\n",
       "      <td>46001</td>\n",
       "      <td>RESTAURACION</td>\n",
       "      <td>2015-01-07</td>\n",
       "      <td>14-16</td>\n",
       "      <td>16.25</td>\n",
       "      <td>1</td>\n",
       "      <td>Valencia</td>\n",
       "      <td>39.474176</td>\n",
       "      <td>-0.380721</td>\n",
       "      <td>Valencia</td>\n",
       "      <td>39.474176</td>\n",
       "      <td>-0.380721</td>\n",
       "      <td>2015-01-07 14:00:00</td>\n",
       "      <td>1420635600</td>\n",
       "      <td>0.52</td>\n",
       "      <td>15.48</td>\n",
       "      <td>15.48</td>\n",
       "      <td>Despejado</td>\n",
       "    </tr>\n",
       "  </tbody>\n",
       "</table>\n",
       "</div>"
      ],
      "text/plain": [
       "   CP_CLIENTE  CP_COMERCIO        SECTOR         DIA FRANJA_HORARIA  IMPORTE  \\\n",
       "0       46001        46001  RESTAURACION  2015-01-02          16-18     2.70   \n",
       "1       46001        46001  RESTAURACION  2015-01-02          20-22    20.00   \n",
       "2       46001        46001  RESTAURACION  2015-01-03          22-24    13.50   \n",
       "3       46001        46001  RESTAURACION  2015-01-06          22-24    16.80   \n",
       "4       46001        46001  RESTAURACION  2015-01-07          14-16    16.25   \n",
       "\n",
       "   NUM_OP CIUDAD_CLIENTE  LAT_CLIENTE  LON_CLIENTE CIUDAD_COMERCIO  \\\n",
       "0       1       Valencia    39.474176    -0.380721        Valencia   \n",
       "1       1       Valencia    39.474176    -0.380721        Valencia   \n",
       "2       1       Valencia    39.474176    -0.380721        Valencia   \n",
       "3       1       Valencia    39.474176    -0.380721        Valencia   \n",
       "4       1       Valencia    39.474176    -0.380721        Valencia   \n",
       "\n",
       "   LAT_COMERCIO  LON_COMERCIO                FECHA   TIMESTAMP  HUMEDAD  \\\n",
       "0     39.474176     -0.380721  2015-01-02 16:00:00  1420210800     0.33   \n",
       "1     39.474176     -0.380721  2015-01-02 20:00:00  1420225200     0.73   \n",
       "2     39.474176     -0.380721  2015-01-03 22:00:00  1420318800     0.59   \n",
       "3     39.474176     -0.380721  2015-01-06 22:00:00  1420578000     0.95   \n",
       "4     39.474176     -0.380721  2015-01-07 14:00:00  1420635600     0.52   \n",
       "\n",
       "   SENSAC_TERMICA  TEMPERATURA           TIEMPO_DESC  \n",
       "0           16.99        16.99  Parcialmente Nublado  \n",
       "1            6.26         7.08             Despejado  \n",
       "2            8.27         9.81             Despejado  \n",
       "3            7.42         7.42  Parcialmente Nublado  \n",
       "4           15.48        15.48             Despejado  "
      ]
     },
     "execution_count": 111,
     "metadata": {},
     "output_type": "execute_result"
    }
   ],
   "source": [
    "df.head(5)"
   ]
  },
  {
   "cell_type": "code",
   "execution_count": 128,
   "metadata": {},
   "outputs": [
    {
     "data": {
      "text/html": [
       "<div>\n",
       "<table border=\"1\" class=\"dataframe\">\n",
       "  <thead>\n",
       "    <tr style=\"text-align: right;\">\n",
       "      <th></th>\n",
       "      <th>CP_CLIENTE</th>\n",
       "      <th>CP_COMERCIO</th>\n",
       "      <th>IMPORTE</th>\n",
       "      <th>NUM_OP</th>\n",
       "      <th>LAT_CLIENTE</th>\n",
       "      <th>LON_CLIENTE</th>\n",
       "      <th>LAT_COMERCIO</th>\n",
       "      <th>LON_COMERCIO</th>\n",
       "      <th>TIMESTAMP</th>\n",
       "      <th>HUMEDAD</th>\n",
       "      <th>SENSAC_TERMICA</th>\n",
       "      <th>TEMPERATURA</th>\n",
       "    </tr>\n",
       "  </thead>\n",
       "  <tbody>\n",
       "    <tr>\n",
       "      <th>count</th>\n",
       "      <td>3.428537e+06</td>\n",
       "      <td>3.428537e+06</td>\n",
       "      <td>3.428537e+06</td>\n",
       "      <td>3.428537e+06</td>\n",
       "      <td>3.428537e+06</td>\n",
       "      <td>3.428537e+06</td>\n",
       "      <td>3.428537e+06</td>\n",
       "      <td>3.428537e+06</td>\n",
       "      <td>3.428537e+06</td>\n",
       "      <td>3.428537e+06</td>\n",
       "      <td>3.428537e+06</td>\n",
       "      <td>3.428537e+06</td>\n",
       "    </tr>\n",
       "    <tr>\n",
       "      <th>mean</th>\n",
       "      <td>4.623815e+04</td>\n",
       "      <td>4.601226e+04</td>\n",
       "      <td>5.883499e+01</td>\n",
       "      <td>1.444462e+00</td>\n",
       "      <td>3.945310e+01</td>\n",
       "      <td>-4.516962e-01</td>\n",
       "      <td>3.946855e+01</td>\n",
       "      <td>-3.743417e-01</td>\n",
       "      <td>1.452573e+09</td>\n",
       "      <td>5.698546e-01</td>\n",
       "      <td>2.002641e+01</td>\n",
       "      <td>1.993165e+01</td>\n",
       "    </tr>\n",
       "    <tr>\n",
       "      <th>std</th>\n",
       "      <td>3.053983e+02</td>\n",
       "      <td>7.298001e+00</td>\n",
       "      <td>1.152058e+02</td>\n",
       "      <td>1.860094e+00</td>\n",
       "      <td>1.475941e-01</td>\n",
       "      <td>1.760221e-01</td>\n",
       "      <td>1.940963e-02</td>\n",
       "      <td>1.855763e-02</td>\n",
       "      <td>1.833651e+07</td>\n",
       "      <td>1.734741e-01</td>\n",
       "      <td>6.965842e+00</td>\n",
       "      <td>6.627596e+00</td>\n",
       "    </tr>\n",
       "    <tr>\n",
       "      <th>min</th>\n",
       "      <td>4.600100e+04</td>\n",
       "      <td>4.600100e+04</td>\n",
       "      <td>1.000000e-02</td>\n",
       "      <td>1.000000e+00</td>\n",
       "      <td>3.875612e+01</td>\n",
       "      <td>-1.462804e+00</td>\n",
       "      <td>3.935123e+01</td>\n",
       "      <td>-4.101619e-01</td>\n",
       "      <td>1.420067e+09</td>\n",
       "      <td>1.000000e-01</td>\n",
       "      <td>-3.310000e+00</td>\n",
       "      <td>-1.060000e+00</td>\n",
       "    </tr>\n",
       "    <tr>\n",
       "      <th>25%</th>\n",
       "      <td>4.601700e+04</td>\n",
       "      <td>4.600600e+04</td>\n",
       "      <td>1.470000e+01</td>\n",
       "      <td>1.000000e+00</td>\n",
       "      <td>3.943929e+01</td>\n",
       "      <td>-4.714694e-01</td>\n",
       "      <td>3.946261e+01</td>\n",
       "      <td>-3.818982e-01</td>\n",
       "      <td>1.436544e+09</td>\n",
       "      <td>4.400000e-01</td>\n",
       "      <td>1.476000e+01</td>\n",
       "      <td>1.476000e+01</td>\n",
       "    </tr>\n",
       "    <tr>\n",
       "      <th>50%</th>\n",
       "      <td>4.611700e+04</td>\n",
       "      <td>4.601300e+04</td>\n",
       "      <td>2.999000e+01</td>\n",
       "      <td>1.000000e+00</td>\n",
       "      <td>3.947041e+01</td>\n",
       "      <td>-3.960275e-01</td>\n",
       "      <td>3.946901e+01</td>\n",
       "      <td>-3.760125e-01</td>\n",
       "      <td>1.452791e+09</td>\n",
       "      <td>5.600000e-01</td>\n",
       "      <td>1.953000e+01</td>\n",
       "      <td>1.953000e+01</td>\n",
       "    </tr>\n",
       "    <tr>\n",
       "      <th>75%</th>\n",
       "      <td>4.637000e+04</td>\n",
       "      <td>4.601900e+04</td>\n",
       "      <td>6.000000e+01</td>\n",
       "      <td>1.000000e+00</td>\n",
       "      <td>3.950432e+01</td>\n",
       "      <td>-3.630670e-01</td>\n",
       "      <td>3.947989e+01</td>\n",
       "      <td>-3.607137e-01</td>\n",
       "      <td>1.468246e+09</td>\n",
       "      <td>6.900000e-01</td>\n",
       "      <td>2.530000e+01</td>\n",
       "      <td>2.530000e+01</td>\n",
       "    </tr>\n",
       "    <tr>\n",
       "      <th>max</th>\n",
       "      <td>4.698900e+04</td>\n",
       "      <td>4.602600e+04</td>\n",
       "      <td>1.737400e+04</td>\n",
       "      <td>7.100000e+01</td>\n",
       "      <td>4.012778e+01</td>\n",
       "      <td>-1.027180e-01</td>\n",
       "      <td>3.950132e+01</td>\n",
       "      <td>-3.254317e-01</td>\n",
       "      <td>1.483218e+09</td>\n",
       "      <td>1.000000e+00</td>\n",
       "      <td>3.751000e+01</td>\n",
       "      <td>4.083000e+01</td>\n",
       "    </tr>\n",
       "  </tbody>\n",
       "</table>\n",
       "</div>"
      ],
      "text/plain": [
       "         CP_CLIENTE   CP_COMERCIO       IMPORTE        NUM_OP   LAT_CLIENTE  \\\n",
       "count  3.428537e+06  3.428537e+06  3.428537e+06  3.428537e+06  3.428537e+06   \n",
       "mean   4.623815e+04  4.601226e+04  5.883499e+01  1.444462e+00  3.945310e+01   \n",
       "std    3.053983e+02  7.298001e+00  1.152058e+02  1.860094e+00  1.475941e-01   \n",
       "min    4.600100e+04  4.600100e+04  1.000000e-02  1.000000e+00  3.875612e+01   \n",
       "25%    4.601700e+04  4.600600e+04  1.470000e+01  1.000000e+00  3.943929e+01   \n",
       "50%    4.611700e+04  4.601300e+04  2.999000e+01  1.000000e+00  3.947041e+01   \n",
       "75%    4.637000e+04  4.601900e+04  6.000000e+01  1.000000e+00  3.950432e+01   \n",
       "max    4.698900e+04  4.602600e+04  1.737400e+04  7.100000e+01  4.012778e+01   \n",
       "\n",
       "        LON_CLIENTE  LAT_COMERCIO  LON_COMERCIO     TIMESTAMP       HUMEDAD  \\\n",
       "count  3.428537e+06  3.428537e+06  3.428537e+06  3.428537e+06  3.428537e+06   \n",
       "mean  -4.516962e-01  3.946855e+01 -3.743417e-01  1.452573e+09  5.698546e-01   \n",
       "std    1.760221e-01  1.940963e-02  1.855763e-02  1.833651e+07  1.734741e-01   \n",
       "min   -1.462804e+00  3.935123e+01 -4.101619e-01  1.420067e+09  1.000000e-01   \n",
       "25%   -4.714694e-01  3.946261e+01 -3.818982e-01  1.436544e+09  4.400000e-01   \n",
       "50%   -3.960275e-01  3.946901e+01 -3.760125e-01  1.452791e+09  5.600000e-01   \n",
       "75%   -3.630670e-01  3.947989e+01 -3.607137e-01  1.468246e+09  6.900000e-01   \n",
       "max   -1.027180e-01  3.950132e+01 -3.254317e-01  1.483218e+09  1.000000e+00   \n",
       "\n",
       "       SENSAC_TERMICA   TEMPERATURA  \n",
       "count    3.428537e+06  3.428537e+06  \n",
       "mean     2.002641e+01  1.993165e+01  \n",
       "std      6.965842e+00  6.627596e+00  \n",
       "min     -3.310000e+00 -1.060000e+00  \n",
       "25%      1.476000e+01  1.476000e+01  \n",
       "50%      1.953000e+01  1.953000e+01  \n",
       "75%      2.530000e+01  2.530000e+01  \n",
       "max      3.751000e+01  4.083000e+01  "
      ]
     },
     "execution_count": 128,
     "metadata": {},
     "output_type": "execute_result"
    }
   ],
   "source": [
    "df.describe()"
   ]
  },
  {
   "cell_type": "markdown",
   "metadata": {},
   "source": [
    "Pretty good. Let's  create less categories."
   ]
  },
  {
   "cell_type": "code",
   "execution_count": 129,
   "metadata": {
    "scrolled": true
   },
   "outputs": [
    {
     "data": {
      "text/plain": [
       "TIEMPO_DESC\n",
       "Despejado                               2414410\n",
       "Fuertes Lluvias                             202\n",
       "Llovizna                                  35178\n",
       "Llovizna y Pocos Vientos                     23\n",
       "Lluvia                                    10728\n",
       "Lluvia Ligera                             79836\n",
       "Lluvia Ligera y Pocos Vientos              1171\n",
       "Mayormente Nublado                       290076\n",
       "Nublado                                   55608\n",
       "Parcialmente Nublado                     483935\n",
       "Pocos Vientos                             10698\n",
       "Pocos Vientos y Mayormente Nublado          628\n",
       "Pocos Vientos y Parcialmente Nublado       1079\n",
       "Pocos Vientos y Seco                       1393\n",
       "Seco                                      27629\n",
       "Seco y Mayormente Nublado                  1017\n",
       "Seco y Parcialmente Nublado                5000\n",
       "Ventoso                                    6433\n",
       "Ventoso y Mayormente Nublado               2120\n",
       "Ventoso y Parcialmente Nublado             1373\n",
       "dtype: int64"
      ]
     },
     "execution_count": 129,
     "metadata": {},
     "output_type": "execute_result"
    }
   ],
   "source": [
    "df.groupby('TIEMPO_DESC').size()"
   ]
  },
  {
   "cell_type": "code",
   "execution_count": 126,
   "metadata": {
    "collapsed": true
   },
   "outputs": [],
   "source": [
    "remap = {\n",
    "    'Despejado':'Despejado',\n",
    "    'Fuertes Lluvias':'Fuertes Lluvias',\n",
    "    'Llovizna':'Llovizna',\n",
    "    'Llovizna y Pocos Vientos':'Llovizna',\n",
    "    'Lluvia':'Lluvia',\n",
    "    'Lluvia Ligera':'Lluvia',\n",
    "    'Lluvia Ligera y Pocos Vientos':'Lluvia',\n",
    "    'Mayormente Nublado':'Mayormente Nublado',\n",
    "    'Nublado':'Nublado',\n",
    "    'Parcialmente Nublado':'Nublado',\n",
    "    'Pocos Vientos':'Despejado',\n",
    "    'Pocos Vientos y Mayormente Nublado':'Mayormente Nublado',\n",
    "    'Pocos Vientos y Parcialmente Nublado':'Nublado',\n",
    "    'Pocos Vientos y Seco':'Despejado',\n",
    "    'Seco':'Despejado',\n",
    "    'Seco y Mayormente Nublado':'Mayormente Nublado',\n",
    "    'Seco y Parcialmente Nublado':'Nublado',\n",
    "    'Ventoso':'Ventoso',\n",
    "    'Ventoso y Mayormente Nublado':'Mayormente Nublado,Ventoso',\n",
    "    'Ventoso y Parcialmente Nublado':'Nublado,Ventoso'\n",
    "}"
   ]
  },
  {
   "cell_type": "code",
   "execution_count": 136,
   "metadata": {
    "collapsed": true
   },
   "outputs": [],
   "source": [
    "# decided to reduce the number of combinations of weather, 20 was too much\n",
    "# some are combinations\n",
    "df['TIEMPO_DESC'] = df['TIEMPO_DESC'].map(remap)"
   ]
  },
  {
   "cell_type": "code",
   "execution_count": 175,
   "metadata": {
    "collapsed": true
   },
   "outputs": [],
   "source": [
    "days = {0:'LUNES',1:'MARTES',2:'MIÉRCOLES',3:'JUEVES',4:'VIERNES',5:'SÁBADO',6:'DOMINGO'}\n",
    "df['DIA_SEMANA'] = df['TIMESTAMP'].apply(lambda x: days[datetime.datetime.fromtimestamp(x).weekday()])"
   ]
  },
  {
   "cell_type": "code",
   "execution_count": 176,
   "metadata": {},
   "outputs": [
    {
     "data": {
      "text/html": [
       "<div>\n",
       "<table border=\"1\" class=\"dataframe\">\n",
       "  <thead>\n",
       "    <tr style=\"text-align: right;\">\n",
       "      <th></th>\n",
       "      <th>CP_CLIENTE</th>\n",
       "      <th>CP_COMERCIO</th>\n",
       "      <th>SECTOR</th>\n",
       "      <th>DIA</th>\n",
       "      <th>FRANJA_HORARIA</th>\n",
       "      <th>IMPORTE</th>\n",
       "      <th>NUM_OP</th>\n",
       "      <th>CIUDAD_CLIENTE</th>\n",
       "      <th>LAT_CLIENTE</th>\n",
       "      <th>LON_CLIENTE</th>\n",
       "      <th>CIUDAD_COMERCIO</th>\n",
       "      <th>LAT_COMERCIO</th>\n",
       "      <th>LON_COMERCIO</th>\n",
       "      <th>FECHA</th>\n",
       "      <th>TIMESTAMP</th>\n",
       "      <th>HUMEDAD</th>\n",
       "      <th>SENSAC_TERMICA</th>\n",
       "      <th>TEMPERATURA</th>\n",
       "      <th>TIEMPO_DESC</th>\n",
       "      <th>DIA_SEMANA</th>\n",
       "    </tr>\n",
       "  </thead>\n",
       "  <tbody>\n",
       "    <tr>\n",
       "      <th>0</th>\n",
       "      <td>46001</td>\n",
       "      <td>46001</td>\n",
       "      <td>RESTAURACION</td>\n",
       "      <td>2015-01-02</td>\n",
       "      <td>16-18</td>\n",
       "      <td>2.70</td>\n",
       "      <td>1</td>\n",
       "      <td>Valencia</td>\n",
       "      <td>39.474176</td>\n",
       "      <td>-0.380721</td>\n",
       "      <td>Valencia</td>\n",
       "      <td>39.474176</td>\n",
       "      <td>-0.380721</td>\n",
       "      <td>2015-01-02 16:00:00</td>\n",
       "      <td>1420210800</td>\n",
       "      <td>0.33</td>\n",
       "      <td>16.99</td>\n",
       "      <td>16.99</td>\n",
       "      <td>Nublado</td>\n",
       "      <td>VIERNES</td>\n",
       "    </tr>\n",
       "    <tr>\n",
       "      <th>1</th>\n",
       "      <td>46001</td>\n",
       "      <td>46001</td>\n",
       "      <td>RESTAURACION</td>\n",
       "      <td>2015-01-02</td>\n",
       "      <td>20-22</td>\n",
       "      <td>20.00</td>\n",
       "      <td>1</td>\n",
       "      <td>Valencia</td>\n",
       "      <td>39.474176</td>\n",
       "      <td>-0.380721</td>\n",
       "      <td>Valencia</td>\n",
       "      <td>39.474176</td>\n",
       "      <td>-0.380721</td>\n",
       "      <td>2015-01-02 20:00:00</td>\n",
       "      <td>1420225200</td>\n",
       "      <td>0.73</td>\n",
       "      <td>6.26</td>\n",
       "      <td>7.08</td>\n",
       "      <td>Despejado</td>\n",
       "      <td>VIERNES</td>\n",
       "    </tr>\n",
       "    <tr>\n",
       "      <th>2</th>\n",
       "      <td>46001</td>\n",
       "      <td>46001</td>\n",
       "      <td>RESTAURACION</td>\n",
       "      <td>2015-01-03</td>\n",
       "      <td>22-24</td>\n",
       "      <td>13.50</td>\n",
       "      <td>1</td>\n",
       "      <td>Valencia</td>\n",
       "      <td>39.474176</td>\n",
       "      <td>-0.380721</td>\n",
       "      <td>Valencia</td>\n",
       "      <td>39.474176</td>\n",
       "      <td>-0.380721</td>\n",
       "      <td>2015-01-03 22:00:00</td>\n",
       "      <td>1420318800</td>\n",
       "      <td>0.59</td>\n",
       "      <td>8.27</td>\n",
       "      <td>9.81</td>\n",
       "      <td>Despejado</td>\n",
       "      <td>SÁBADO</td>\n",
       "    </tr>\n",
       "    <tr>\n",
       "      <th>3</th>\n",
       "      <td>46001</td>\n",
       "      <td>46001</td>\n",
       "      <td>RESTAURACION</td>\n",
       "      <td>2015-01-06</td>\n",
       "      <td>22-24</td>\n",
       "      <td>16.80</td>\n",
       "      <td>1</td>\n",
       "      <td>Valencia</td>\n",
       "      <td>39.474176</td>\n",
       "      <td>-0.380721</td>\n",
       "      <td>Valencia</td>\n",
       "      <td>39.474176</td>\n",
       "      <td>-0.380721</td>\n",
       "      <td>2015-01-06 22:00:00</td>\n",
       "      <td>1420578000</td>\n",
       "      <td>0.95</td>\n",
       "      <td>7.42</td>\n",
       "      <td>7.42</td>\n",
       "      <td>Nublado</td>\n",
       "      <td>MARTES</td>\n",
       "    </tr>\n",
       "    <tr>\n",
       "      <th>4</th>\n",
       "      <td>46001</td>\n",
       "      <td>46001</td>\n",
       "      <td>RESTAURACION</td>\n",
       "      <td>2015-01-07</td>\n",
       "      <td>14-16</td>\n",
       "      <td>16.25</td>\n",
       "      <td>1</td>\n",
       "      <td>Valencia</td>\n",
       "      <td>39.474176</td>\n",
       "      <td>-0.380721</td>\n",
       "      <td>Valencia</td>\n",
       "      <td>39.474176</td>\n",
       "      <td>-0.380721</td>\n",
       "      <td>2015-01-07 14:00:00</td>\n",
       "      <td>1420635600</td>\n",
       "      <td>0.52</td>\n",
       "      <td>15.48</td>\n",
       "      <td>15.48</td>\n",
       "      <td>Despejado</td>\n",
       "      <td>MIÉRCOLES</td>\n",
       "    </tr>\n",
       "  </tbody>\n",
       "</table>\n",
       "</div>"
      ],
      "text/plain": [
       "   CP_CLIENTE  CP_COMERCIO        SECTOR         DIA FRANJA_HORARIA  IMPORTE  \\\n",
       "0       46001        46001  RESTAURACION  2015-01-02          16-18     2.70   \n",
       "1       46001        46001  RESTAURACION  2015-01-02          20-22    20.00   \n",
       "2       46001        46001  RESTAURACION  2015-01-03          22-24    13.50   \n",
       "3       46001        46001  RESTAURACION  2015-01-06          22-24    16.80   \n",
       "4       46001        46001  RESTAURACION  2015-01-07          14-16    16.25   \n",
       "\n",
       "   NUM_OP CIUDAD_CLIENTE  LAT_CLIENTE  LON_CLIENTE CIUDAD_COMERCIO  \\\n",
       "0       1       Valencia    39.474176    -0.380721        Valencia   \n",
       "1       1       Valencia    39.474176    -0.380721        Valencia   \n",
       "2       1       Valencia    39.474176    -0.380721        Valencia   \n",
       "3       1       Valencia    39.474176    -0.380721        Valencia   \n",
       "4       1       Valencia    39.474176    -0.380721        Valencia   \n",
       "\n",
       "   LAT_COMERCIO  LON_COMERCIO                FECHA   TIMESTAMP  HUMEDAD  \\\n",
       "0     39.474176     -0.380721  2015-01-02 16:00:00  1420210800     0.33   \n",
       "1     39.474176     -0.380721  2015-01-02 20:00:00  1420225200     0.73   \n",
       "2     39.474176     -0.380721  2015-01-03 22:00:00  1420318800     0.59   \n",
       "3     39.474176     -0.380721  2015-01-06 22:00:00  1420578000     0.95   \n",
       "4     39.474176     -0.380721  2015-01-07 14:00:00  1420635600     0.52   \n",
       "\n",
       "   SENSAC_TERMICA  TEMPERATURA TIEMPO_DESC DIA_SEMANA  \n",
       "0           16.99        16.99     Nublado    VIERNES  \n",
       "1            6.26         7.08   Despejado    VIERNES  \n",
       "2            8.27         9.81   Despejado     SÁBADO  \n",
       "3            7.42         7.42     Nublado     MARTES  \n",
       "4           15.48        15.48   Despejado  MIÉRCOLES  "
      ]
     },
     "execution_count": 176,
     "metadata": {},
     "output_type": "execute_result"
    }
   ],
   "source": [
    "df.head(5)"
   ]
  },
  {
   "cell_type": "code",
   "execution_count": 144,
   "metadata": {
    "collapsed": true
   },
   "outputs": [],
   "source": [
    "df.to_csv('data/payments_w_city_weather.txt', sep='|', index=False,  decimal=\".\")"
   ]
  },
  {
   "cell_type": "code",
   "execution_count": 173,
   "metadata": {
    "collapsed": true
   },
   "outputs": [],
   "source": [
    "df = pd.read_csv('/home/fede/workspace/DataLab/PyDataLab/data/payments_w_city_weather.txt', sep='|', header=0)"
   ]
  },
  {
   "cell_type": "markdown",
   "metadata": {
    "collapsed": true
   },
   "source": [
    "Checking distributions to understand a bit more the data..."
   ]
  },
  {
   "cell_type": "code",
   "execution_count": 145,
   "metadata": {},
   "outputs": [
    {
     "data": {
      "text/html": [
       "<div>\n",
       "<table border=\"1\" class=\"dataframe\">\n",
       "  <thead>\n",
       "    <tr style=\"text-align: right;\">\n",
       "      <th></th>\n",
       "      <th>CP_CLIENTE</th>\n",
       "      <th>CP_COMERCIO</th>\n",
       "      <th>IMPORTE</th>\n",
       "      <th>NUM_OP</th>\n",
       "      <th>LAT_CLIENTE</th>\n",
       "      <th>LON_CLIENTE</th>\n",
       "      <th>LAT_COMERCIO</th>\n",
       "      <th>LON_COMERCIO</th>\n",
       "      <th>TIMESTAMP</th>\n",
       "      <th>HUMEDAD</th>\n",
       "      <th>SENSAC_TERMICA</th>\n",
       "      <th>TEMPERATURA</th>\n",
       "    </tr>\n",
       "  </thead>\n",
       "  <tbody>\n",
       "    <tr>\n",
       "      <th>count</th>\n",
       "      <td>3.428537e+06</td>\n",
       "      <td>3.428537e+06</td>\n",
       "      <td>3.428537e+06</td>\n",
       "      <td>3.428537e+06</td>\n",
       "      <td>3.428537e+06</td>\n",
       "      <td>3.428537e+06</td>\n",
       "      <td>3.428537e+06</td>\n",
       "      <td>3.428537e+06</td>\n",
       "      <td>3.428537e+06</td>\n",
       "      <td>3.428537e+06</td>\n",
       "      <td>3.428537e+06</td>\n",
       "      <td>3.428537e+06</td>\n",
       "    </tr>\n",
       "    <tr>\n",
       "      <th>mean</th>\n",
       "      <td>4.623815e+04</td>\n",
       "      <td>4.601226e+04</td>\n",
       "      <td>5.883499e+01</td>\n",
       "      <td>1.444462e+00</td>\n",
       "      <td>3.945310e+01</td>\n",
       "      <td>-4.516962e-01</td>\n",
       "      <td>3.946855e+01</td>\n",
       "      <td>-3.743417e-01</td>\n",
       "      <td>1.452573e+09</td>\n",
       "      <td>5.698546e-01</td>\n",
       "      <td>2.002641e+01</td>\n",
       "      <td>1.993165e+01</td>\n",
       "    </tr>\n",
       "    <tr>\n",
       "      <th>std</th>\n",
       "      <td>3.053983e+02</td>\n",
       "      <td>7.298001e+00</td>\n",
       "      <td>1.152058e+02</td>\n",
       "      <td>1.860094e+00</td>\n",
       "      <td>1.475941e-01</td>\n",
       "      <td>1.760221e-01</td>\n",
       "      <td>1.940963e-02</td>\n",
       "      <td>1.855763e-02</td>\n",
       "      <td>1.833651e+07</td>\n",
       "      <td>1.734741e-01</td>\n",
       "      <td>6.965842e+00</td>\n",
       "      <td>6.627596e+00</td>\n",
       "    </tr>\n",
       "    <tr>\n",
       "      <th>min</th>\n",
       "      <td>4.600100e+04</td>\n",
       "      <td>4.600100e+04</td>\n",
       "      <td>1.000000e-02</td>\n",
       "      <td>1.000000e+00</td>\n",
       "      <td>3.875612e+01</td>\n",
       "      <td>-1.462804e+00</td>\n",
       "      <td>3.935123e+01</td>\n",
       "      <td>-4.101619e-01</td>\n",
       "      <td>1.420067e+09</td>\n",
       "      <td>1.000000e-01</td>\n",
       "      <td>-3.310000e+00</td>\n",
       "      <td>-1.060000e+00</td>\n",
       "    </tr>\n",
       "    <tr>\n",
       "      <th>25%</th>\n",
       "      <td>4.601700e+04</td>\n",
       "      <td>4.600600e+04</td>\n",
       "      <td>1.470000e+01</td>\n",
       "      <td>1.000000e+00</td>\n",
       "      <td>3.943929e+01</td>\n",
       "      <td>-4.714694e-01</td>\n",
       "      <td>3.946261e+01</td>\n",
       "      <td>-3.818982e-01</td>\n",
       "      <td>1.436544e+09</td>\n",
       "      <td>4.400000e-01</td>\n",
       "      <td>1.476000e+01</td>\n",
       "      <td>1.476000e+01</td>\n",
       "    </tr>\n",
       "    <tr>\n",
       "      <th>50%</th>\n",
       "      <td>4.611700e+04</td>\n",
       "      <td>4.601300e+04</td>\n",
       "      <td>2.999000e+01</td>\n",
       "      <td>1.000000e+00</td>\n",
       "      <td>3.947041e+01</td>\n",
       "      <td>-3.960275e-01</td>\n",
       "      <td>3.946901e+01</td>\n",
       "      <td>-3.760125e-01</td>\n",
       "      <td>1.452791e+09</td>\n",
       "      <td>5.600000e-01</td>\n",
       "      <td>1.953000e+01</td>\n",
       "      <td>1.953000e+01</td>\n",
       "    </tr>\n",
       "    <tr>\n",
       "      <th>75%</th>\n",
       "      <td>4.637000e+04</td>\n",
       "      <td>4.601900e+04</td>\n",
       "      <td>6.000000e+01</td>\n",
       "      <td>1.000000e+00</td>\n",
       "      <td>3.950432e+01</td>\n",
       "      <td>-3.630670e-01</td>\n",
       "      <td>3.947989e+01</td>\n",
       "      <td>-3.607137e-01</td>\n",
       "      <td>1.468246e+09</td>\n",
       "      <td>6.900000e-01</td>\n",
       "      <td>2.530000e+01</td>\n",
       "      <td>2.530000e+01</td>\n",
       "    </tr>\n",
       "    <tr>\n",
       "      <th>max</th>\n",
       "      <td>4.698900e+04</td>\n",
       "      <td>4.602600e+04</td>\n",
       "      <td>1.737400e+04</td>\n",
       "      <td>7.100000e+01</td>\n",
       "      <td>4.012778e+01</td>\n",
       "      <td>-1.027180e-01</td>\n",
       "      <td>3.950132e+01</td>\n",
       "      <td>-3.254317e-01</td>\n",
       "      <td>1.483218e+09</td>\n",
       "      <td>1.000000e+00</td>\n",
       "      <td>3.751000e+01</td>\n",
       "      <td>4.083000e+01</td>\n",
       "    </tr>\n",
       "  </tbody>\n",
       "</table>\n",
       "</div>"
      ],
      "text/plain": [
       "         CP_CLIENTE   CP_COMERCIO       IMPORTE        NUM_OP   LAT_CLIENTE  \\\n",
       "count  3.428537e+06  3.428537e+06  3.428537e+06  3.428537e+06  3.428537e+06   \n",
       "mean   4.623815e+04  4.601226e+04  5.883499e+01  1.444462e+00  3.945310e+01   \n",
       "std    3.053983e+02  7.298001e+00  1.152058e+02  1.860094e+00  1.475941e-01   \n",
       "min    4.600100e+04  4.600100e+04  1.000000e-02  1.000000e+00  3.875612e+01   \n",
       "25%    4.601700e+04  4.600600e+04  1.470000e+01  1.000000e+00  3.943929e+01   \n",
       "50%    4.611700e+04  4.601300e+04  2.999000e+01  1.000000e+00  3.947041e+01   \n",
       "75%    4.637000e+04  4.601900e+04  6.000000e+01  1.000000e+00  3.950432e+01   \n",
       "max    4.698900e+04  4.602600e+04  1.737400e+04  7.100000e+01  4.012778e+01   \n",
       "\n",
       "        LON_CLIENTE  LAT_COMERCIO  LON_COMERCIO     TIMESTAMP       HUMEDAD  \\\n",
       "count  3.428537e+06  3.428537e+06  3.428537e+06  3.428537e+06  3.428537e+06   \n",
       "mean  -4.516962e-01  3.946855e+01 -3.743417e-01  1.452573e+09  5.698546e-01   \n",
       "std    1.760221e-01  1.940963e-02  1.855763e-02  1.833651e+07  1.734741e-01   \n",
       "min   -1.462804e+00  3.935123e+01 -4.101619e-01  1.420067e+09  1.000000e-01   \n",
       "25%   -4.714694e-01  3.946261e+01 -3.818982e-01  1.436544e+09  4.400000e-01   \n",
       "50%   -3.960275e-01  3.946901e+01 -3.760125e-01  1.452791e+09  5.600000e-01   \n",
       "75%   -3.630670e-01  3.947989e+01 -3.607137e-01  1.468246e+09  6.900000e-01   \n",
       "max   -1.027180e-01  3.950132e+01 -3.254317e-01  1.483218e+09  1.000000e+00   \n",
       "\n",
       "       SENSAC_TERMICA   TEMPERATURA  \n",
       "count    3.428537e+06  3.428537e+06  \n",
       "mean     2.002641e+01  1.993165e+01  \n",
       "std      6.965842e+00  6.627596e+00  \n",
       "min     -3.310000e+00 -1.060000e+00  \n",
       "25%      1.476000e+01  1.476000e+01  \n",
       "50%      1.953000e+01  1.953000e+01  \n",
       "75%      2.530000e+01  2.530000e+01  \n",
       "max      3.751000e+01  4.083000e+01  "
      ]
     },
     "execution_count": 145,
     "metadata": {},
     "output_type": "execute_result"
    }
   ],
   "source": [
    "df.describe()"
   ]
  },
  {
   "cell_type": "code",
   "execution_count": 146,
   "metadata": {},
   "outputs": [
    {
     "data": {
      "image/png": "[encoded data removed]",
      "text/plain": [
       "<matplotlib.figure.Figure at 0x7f06ed286400>"
      ]
     },
     "metadata": {},
     "output_type": "display_data"
    }
   ],
   "source": [
    "df[df['IMPORTE']<200]['IMPORTE'].hist(bins=200, by=df['SECTOR'])\n",
    "plt.axis([0, 200, 0, 50000])\n",
    "plt.show()"
   ]
  },
  {
   "cell_type": "markdown",
   "metadata": {},
   "source": [
    "Food is clearly the most consumed good/service."
   ]
  },
  {
   "cell_type": "code",
   "execution_count": 150,
   "metadata": {},
   "outputs": [
    {
     "data": {
      "image/png": "[encoded data removed]",
      "text/plain": [
       "<matplotlib.figure.Figure at 0x7f06f9c9a2e8>"
      ]
     },
     "metadata": {},
     "output_type": "display_data"
    }
   ],
   "source": [
    "df[df['IMPORTE']<200]['IMPORTE'].hist(bins=200, by=df['TIEMPO_DESC'])\n",
    "plt.axis([0, 200, 0, 50000])\n",
    "plt.show()"
   ]
  },
  {
   "cell_type": "code",
   "execution_count": 151,
   "metadata": {},
   "outputs": [
    {
     "data": {
      "image/png": "[encoded data removed]",
      "text/plain": [
       "<matplotlib.figure.Figure at 0x7f06ed1caeb8>"
      ]
     },
     "metadata": {},
     "output_type": "display_data"
    }
   ],
   "source": [
    "df[df['IMPORTE']<200]['IMPORTE'].hist(bins=200, by=df['DIA_SEMANA'])\n",
    "plt.axis([0, 200, 0, 50000])\n",
    "plt.show()"
   ]
  },
  {
   "cell_type": "code",
   "execution_count": 159,
   "metadata": {},
   "outputs": [
    {
     "data": {
      "image/png": "[encoded data removed]",
      "text/plain": [
       "<matplotlib.figure.Figure at 0x7f0645621a90>"
      ]
     },
     "metadata": {},
     "output_type": "display_data"
    }
   ],
   "source": [
    "df.plot(kind='scatter',x='IMPORTE',y='TEMPERATURA')\n",
    "plt.show()"
   ]
  },
  {
   "cell_type": "code",
   "execution_count": 161,
   "metadata": {},
   "outputs": [
    {
     "data": {
      "image/png": "[encoded data removed]",
      "text/plain": [
       "<matplotlib.figure.Figure at 0x7f06fd0c37f0>"
      ]
     },
     "metadata": {},
     "output_type": "display_data"
    }
   ],
   "source": [
    "groups = df.groupby('SECTOR')\n",
    "\n",
    "fig, ax = plt.subplots()\n",
    "for name, group in groups:\n",
    "    ax.plot(group['IMPORTE'], group['TEMPERATURA'], marker='o', linestyle='', label=name)\n",
    "ax.legend()\n",
    "\n",
    "plt.show()"
   ]
  }
 ],
 "metadata": {
  "anaconda-cloud": {},
  "kernelspec": {
   "display_name": "Python 3",
   "language": "python",
   "name": "python3"
  },
  "language_info": {
   "codemirror_mode": {
    "name": "ipython",
    "version": 3
   },
   "file_extension": ".py",
   "mimetype": "text/x-python",
   "name": "python",
   "nbconvert_exporter": "python",
   "pygments_lexer": "ipython3",
   "version": "3.5.2"
  }
 },
 "nbformat": 4,
 "nbformat_minor": 2
}
